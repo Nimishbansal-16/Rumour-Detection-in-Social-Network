{
  "cells": [
    {
      "cell_type": "markdown",
      "metadata": {
        "id": "view-in-github",
        "colab_type": "text"
      },
      "source": [
        "<a href=\"https://colab.research.google.com/github/Nimishbansal-16/Rumour-Detection-in-Social-Network/blob/main/main.ipynb\" target=\"_parent\"><img src=\"https://colab.research.google.com/assets/colab-badge.svg\" alt=\"Open In Colab\"/></a>"
      ]
    },
    {
      "cell_type": "code",
      "execution_count": null,
      "metadata": {
        "colab": {
          "base_uri": "https://localhost:8080/"
        },
        "id": "5983o-Q3SbUr",
        "outputId": "3bfb1d58-8196-401a-e503-f7c5d92b3b87"
      },
      "outputs": [
        {
          "output_type": "stream",
          "name": "stderr",
          "text": [
            "[nltk_data] Downloading package stopwords to /root/nltk_data...\n",
            "[nltk_data]   Package stopwords is already up-to-date!\n",
            "[nltk_data] Downloading package wordnet to /root/nltk_data...\n",
            "[nltk_data]   Package wordnet is already up-to-date!\n",
            "[nltk_data] Downloading package punkt to /root/nltk_data...\n",
            "[nltk_data]   Package punkt is already up-to-date!\n"
          ]
        }
      ],
      "source": [
        "import pandas as pd\n",
        "import numpy as np\n",
        "import matplotlib.pyplot as plt\n",
        "#from vaderSentiment.vaderSentiment import SentimentIntensityAnalyzer\n",
        "import nltk\n",
        "nltk.download('stopwords')\n",
        "nltk.download('wordnet')\n",
        "nltk.download('punkt')\n",
        "from nltk import wordnet\n",
        "from nltk.corpus import stopwords\n",
        "from nltk import PorterStemmer, WordNetLemmatizer\n",
        "from sklearn.feature_extraction.text import TfidfVectorizer\n",
        "%matplotlib inline"
      ]
    },
    {
      "cell_type": "code",
      "execution_count": null,
      "metadata": {
        "id": "tk0zeaTXE-MA"
      },
      "outputs": [],
      "source": [
        "df = pd.read_csv('CharlieNew30.csv')"
      ]
    },
    {
      "cell_type": "code",
      "execution_count": null,
      "metadata": {
        "id": "9GT5ouIpFB3L"
      },
      "outputs": [],
      "source": [
        "df.dropna(inplace=True)"
      ]
    },
    {
      "cell_type": "code",
      "execution_count": null,
      "metadata": {
        "colab": {
          "base_uri": "https://localhost:8080/",
          "height": 835
        },
        "id": "hNQpi-HOc7GF",
        "outputId": "8171f062-8adc-4115-95b2-557d6a618df4"
      },
      "outputs": [
        {
          "output_type": "execute_result",
          "data": {
            "text/plain": [
              "          tweet_source_id                                  tweet_source_text  \\\n",
              "0      552821437678223361  b'Best response to #CharlieHebdo attack -- oth...   \n",
              "1      552821437678223361  b'Best response to #CharlieHebdo attack -- oth...   \n",
              "2      552821437678223361  b'Best response to #CharlieHebdo attack -- oth...   \n",
              "3      552821437678223361  b'Best response to #CharlieHebdo attack -- oth...   \n",
              "4      552821437678223361  b'Best response to #CharlieHebdo attack -- oth...   \n",
              "...                   ...                                                ...   \n",
              "10826  553152395371630592  b'This widely shared cartoon about the #Charli...   \n",
              "10827  553152395371630592  b'This widely shared cartoon about the #Charli...   \n",
              "10828  553152395371630592  b'This widely shared cartoon about the #Charli...   \n",
              "10829  553160652567498752  b'French police: Said Kouachi and Cherif Kouac...   \n",
              "10830  553160652567498752  b'French police: Said Kouachi and Cherif Kouac...   \n",
              "\n",
              "       uverified  ufollowers  ulisted  ustatuses  ufavorites  ageofacc  \\\n",
              "0          False     26094.0    982.0    11003.0       325.0       6.0   \n",
              "1          False     26094.0    982.0    11003.0       325.0       6.0   \n",
              "2          False     26094.0    982.0    11003.0       325.0       6.0   \n",
              "3          False     26094.0    982.0    11003.0       325.0       6.0   \n",
              "4          False     26094.0    982.0    11003.0       325.0       6.0   \n",
              "...          ...         ...      ...        ...         ...       ...   \n",
              "10826       True     58928.0    846.0     4148.0      1411.0       2.0   \n",
              "10827       True     58928.0    846.0     4148.0      1411.0       2.0   \n",
              "10828       True     58928.0    846.0     4148.0      1411.0       2.0   \n",
              "10829       True   3847705.0  37089.0   100712.0       560.0       6.0   \n",
              "10830       True   3847705.0  37089.0   100712.0       560.0       6.0   \n",
              "\n",
              "                                     tweet_reaction_text  annotation  \n",
              "0        b'@actuary21c @jacobwe Lots to satirise there!'           0  \n",
              "1      b'@UniversityWatc1 @jacobwe absolutely. And th...           0  \n",
              "2                                       b'@jacobwe Lol!'           0  \n",
              "3      b'@popularcritic1 @jacobwe they can ridicule m...           0  \n",
              "4      b\"@nick_elt @jacobwe to u it is. I'm not relig...           0  \n",
              "...                                                  ...         ...  \n",
              "10826           b'@lydaten wat probeerde je te doen ;-)'           1  \n",
              "10827  b'@sven10hove laten zien ... Prachtige tekenin...           1  \n",
              "10828                                     b'@lydaten :)'           1  \n",
              "10829  b'\\xe2\\x80\\x9c@ABC: French police: Said Kouach...           1  \n",
              "10830  b'\\xe2\\x80\\x9c@ABC: French police: Said Kouach...           1  \n",
              "\n",
              "[10831 rows x 10 columns]"
            ],
            "text/html": [
              "\n",
              "  <div id=\"df-41ab8d6e-fe7c-4a53-88b2-b6076ea2ede8\">\n",
              "    <div class=\"colab-df-container\">\n",
              "      <div>\n",
              "<style scoped>\n",
              "    .dataframe tbody tr th:only-of-type {\n",
              "        vertical-align: middle;\n",
              "    }\n",
              "\n",
              "    .dataframe tbody tr th {\n",
              "        vertical-align: top;\n",
              "    }\n",
              "\n",
              "    .dataframe thead th {\n",
              "        text-align: right;\n",
              "    }\n",
              "</style>\n",
              "<table border=\"1\" class=\"dataframe\">\n",
              "  <thead>\n",
              "    <tr style=\"text-align: right;\">\n",
              "      <th></th>\n",
              "      <th>tweet_source_id</th>\n",
              "      <th>tweet_source_text</th>\n",
              "      <th>uverified</th>\n",
              "      <th>ufollowers</th>\n",
              "      <th>ulisted</th>\n",
              "      <th>ustatuses</th>\n",
              "      <th>ufavorites</th>\n",
              "      <th>ageofacc</th>\n",
              "      <th>tweet_reaction_text</th>\n",
              "      <th>annotation</th>\n",
              "    </tr>\n",
              "  </thead>\n",
              "  <tbody>\n",
              "    <tr>\n",
              "      <th>0</th>\n",
              "      <td>552821437678223361</td>\n",
              "      <td>b'Best response to #CharlieHebdo attack -- oth...</td>\n",
              "      <td>False</td>\n",
              "      <td>26094.0</td>\n",
              "      <td>982.0</td>\n",
              "      <td>11003.0</td>\n",
              "      <td>325.0</td>\n",
              "      <td>6.0</td>\n",
              "      <td>b'@actuary21c @jacobwe Lots to satirise there!'</td>\n",
              "      <td>0</td>\n",
              "    </tr>\n",
              "    <tr>\n",
              "      <th>1</th>\n",
              "      <td>552821437678223361</td>\n",
              "      <td>b'Best response to #CharlieHebdo attack -- oth...</td>\n",
              "      <td>False</td>\n",
              "      <td>26094.0</td>\n",
              "      <td>982.0</td>\n",
              "      <td>11003.0</td>\n",
              "      <td>325.0</td>\n",
              "      <td>6.0</td>\n",
              "      <td>b'@UniversityWatc1 @jacobwe absolutely. And th...</td>\n",
              "      <td>0</td>\n",
              "    </tr>\n",
              "    <tr>\n",
              "      <th>2</th>\n",
              "      <td>552821437678223361</td>\n",
              "      <td>b'Best response to #CharlieHebdo attack -- oth...</td>\n",
              "      <td>False</td>\n",
              "      <td>26094.0</td>\n",
              "      <td>982.0</td>\n",
              "      <td>11003.0</td>\n",
              "      <td>325.0</td>\n",
              "      <td>6.0</td>\n",
              "      <td>b'@jacobwe Lol!'</td>\n",
              "      <td>0</td>\n",
              "    </tr>\n",
              "    <tr>\n",
              "      <th>3</th>\n",
              "      <td>552821437678223361</td>\n",
              "      <td>b'Best response to #CharlieHebdo attack -- oth...</td>\n",
              "      <td>False</td>\n",
              "      <td>26094.0</td>\n",
              "      <td>982.0</td>\n",
              "      <td>11003.0</td>\n",
              "      <td>325.0</td>\n",
              "      <td>6.0</td>\n",
              "      <td>b'@popularcritic1 @jacobwe they can ridicule m...</td>\n",
              "      <td>0</td>\n",
              "    </tr>\n",
              "    <tr>\n",
              "      <th>4</th>\n",
              "      <td>552821437678223361</td>\n",
              "      <td>b'Best response to #CharlieHebdo attack -- oth...</td>\n",
              "      <td>False</td>\n",
              "      <td>26094.0</td>\n",
              "      <td>982.0</td>\n",
              "      <td>11003.0</td>\n",
              "      <td>325.0</td>\n",
              "      <td>6.0</td>\n",
              "      <td>b\"@nick_elt @jacobwe to u it is. I'm not relig...</td>\n",
              "      <td>0</td>\n",
              "    </tr>\n",
              "    <tr>\n",
              "      <th>...</th>\n",
              "      <td>...</td>\n",
              "      <td>...</td>\n",
              "      <td>...</td>\n",
              "      <td>...</td>\n",
              "      <td>...</td>\n",
              "      <td>...</td>\n",
              "      <td>...</td>\n",
              "      <td>...</td>\n",
              "      <td>...</td>\n",
              "      <td>...</td>\n",
              "    </tr>\n",
              "    <tr>\n",
              "      <th>10826</th>\n",
              "      <td>553152395371630592</td>\n",
              "      <td>b'This widely shared cartoon about the #Charli...</td>\n",
              "      <td>True</td>\n",
              "      <td>58928.0</td>\n",
              "      <td>846.0</td>\n",
              "      <td>4148.0</td>\n",
              "      <td>1411.0</td>\n",
              "      <td>2.0</td>\n",
              "      <td>b'@lydaten wat probeerde je te doen ;-)'</td>\n",
              "      <td>1</td>\n",
              "    </tr>\n",
              "    <tr>\n",
              "      <th>10827</th>\n",
              "      <td>553152395371630592</td>\n",
              "      <td>b'This widely shared cartoon about the #Charli...</td>\n",
              "      <td>True</td>\n",
              "      <td>58928.0</td>\n",
              "      <td>846.0</td>\n",
              "      <td>4148.0</td>\n",
              "      <td>1411.0</td>\n",
              "      <td>2.0</td>\n",
              "      <td>b'@sven10hove laten zien ... Prachtige tekenin...</td>\n",
              "      <td>1</td>\n",
              "    </tr>\n",
              "    <tr>\n",
              "      <th>10828</th>\n",
              "      <td>553152395371630592</td>\n",
              "      <td>b'This widely shared cartoon about the #Charli...</td>\n",
              "      <td>True</td>\n",
              "      <td>58928.0</td>\n",
              "      <td>846.0</td>\n",
              "      <td>4148.0</td>\n",
              "      <td>1411.0</td>\n",
              "      <td>2.0</td>\n",
              "      <td>b'@lydaten :)'</td>\n",
              "      <td>1</td>\n",
              "    </tr>\n",
              "    <tr>\n",
              "      <th>10829</th>\n",
              "      <td>553160652567498752</td>\n",
              "      <td>b'French police: Said Kouachi and Cherif Kouac...</td>\n",
              "      <td>True</td>\n",
              "      <td>3847705.0</td>\n",
              "      <td>37089.0</td>\n",
              "      <td>100712.0</td>\n",
              "      <td>560.0</td>\n",
              "      <td>6.0</td>\n",
              "      <td>b'\\xe2\\x80\\x9c@ABC: French police: Said Kouach...</td>\n",
              "      <td>1</td>\n",
              "    </tr>\n",
              "    <tr>\n",
              "      <th>10830</th>\n",
              "      <td>553160652567498752</td>\n",
              "      <td>b'French police: Said Kouachi and Cherif Kouac...</td>\n",
              "      <td>True</td>\n",
              "      <td>3847705.0</td>\n",
              "      <td>37089.0</td>\n",
              "      <td>100712.0</td>\n",
              "      <td>560.0</td>\n",
              "      <td>6.0</td>\n",
              "      <td>b'\\xe2\\x80\\x9c@ABC: French police: Said Kouach...</td>\n",
              "      <td>1</td>\n",
              "    </tr>\n",
              "  </tbody>\n",
              "</table>\n",
              "<p>10831 rows × 10 columns</p>\n",
              "</div>\n",
              "      <button class=\"colab-df-convert\" onclick=\"convertToInteractive('df-41ab8d6e-fe7c-4a53-88b2-b6076ea2ede8')\"\n",
              "              title=\"Convert this dataframe to an interactive table.\"\n",
              "              style=\"display:none;\">\n",
              "        \n",
              "  <svg xmlns=\"http://www.w3.org/2000/svg\" height=\"24px\"viewBox=\"0 0 24 24\"\n",
              "       width=\"24px\">\n",
              "    <path d=\"M0 0h24v24H0V0z\" fill=\"none\"/>\n",
              "    <path d=\"M18.56 5.44l.94 2.06.94-2.06 2.06-.94-2.06-.94-.94-2.06-.94 2.06-2.06.94zm-11 1L8.5 8.5l.94-2.06 2.06-.94-2.06-.94L8.5 2.5l-.94 2.06-2.06.94zm10 10l.94 2.06.94-2.06 2.06-.94-2.06-.94-.94-2.06-.94 2.06-2.06.94z\"/><path d=\"M17.41 7.96l-1.37-1.37c-.4-.4-.92-.59-1.43-.59-.52 0-1.04.2-1.43.59L10.3 9.45l-7.72 7.72c-.78.78-.78 2.05 0 2.83L4 21.41c.39.39.9.59 1.41.59.51 0 1.02-.2 1.41-.59l7.78-7.78 2.81-2.81c.8-.78.8-2.07 0-2.86zM5.41 20L4 18.59l7.72-7.72 1.47 1.35L5.41 20z\"/>\n",
              "  </svg>\n",
              "      </button>\n",
              "      \n",
              "  <style>\n",
              "    .colab-df-container {\n",
              "      display:flex;\n",
              "      flex-wrap:wrap;\n",
              "      gap: 12px;\n",
              "    }\n",
              "\n",
              "    .colab-df-convert {\n",
              "      background-color: #E8F0FE;\n",
              "      border: none;\n",
              "      border-radius: 50%;\n",
              "      cursor: pointer;\n",
              "      display: none;\n",
              "      fill: #1967D2;\n",
              "      height: 32px;\n",
              "      padding: 0 0 0 0;\n",
              "      width: 32px;\n",
              "    }\n",
              "\n",
              "    .colab-df-convert:hover {\n",
              "      background-color: #E2EBFA;\n",
              "      box-shadow: 0px 1px 2px rgba(60, 64, 67, 0.3), 0px 1px 3px 1px rgba(60, 64, 67, 0.15);\n",
              "      fill: #174EA6;\n",
              "    }\n",
              "\n",
              "    [theme=dark] .colab-df-convert {\n",
              "      background-color: #3B4455;\n",
              "      fill: #D2E3FC;\n",
              "    }\n",
              "\n",
              "    [theme=dark] .colab-df-convert:hover {\n",
              "      background-color: #434B5C;\n",
              "      box-shadow: 0px 1px 3px 1px rgba(0, 0, 0, 0.15);\n",
              "      filter: drop-shadow(0px 1px 2px rgba(0, 0, 0, 0.3));\n",
              "      fill: #FFFFFF;\n",
              "    }\n",
              "  </style>\n",
              "\n",
              "      <script>\n",
              "        const buttonEl =\n",
              "          document.querySelector('#df-41ab8d6e-fe7c-4a53-88b2-b6076ea2ede8 button.colab-df-convert');\n",
              "        buttonEl.style.display =\n",
              "          google.colab.kernel.accessAllowed ? 'block' : 'none';\n",
              "\n",
              "        async function convertToInteractive(key) {\n",
              "          const element = document.querySelector('#df-41ab8d6e-fe7c-4a53-88b2-b6076ea2ede8');\n",
              "          const dataTable =\n",
              "            await google.colab.kernel.invokeFunction('convertToInteractive',\n",
              "                                                     [key], {});\n",
              "          if (!dataTable) return;\n",
              "\n",
              "          const docLinkHtml = 'Like what you see? Visit the ' +\n",
              "            '<a target=\"_blank\" href=https://colab.research.google.com/notebooks/data_table.ipynb>data table notebook</a>'\n",
              "            + ' to learn more about interactive tables.';\n",
              "          element.innerHTML = '';\n",
              "          dataTable['output_type'] = 'display_data';\n",
              "          await google.colab.output.renderOutput(dataTable, element);\n",
              "          const docLink = document.createElement('div');\n",
              "          docLink.innerHTML = docLinkHtml;\n",
              "          element.appendChild(docLink);\n",
              "        }\n",
              "      </script>\n",
              "    </div>\n",
              "  </div>\n",
              "  "
            ]
          },
          "metadata": {},
          "execution_count": 41
        }
      ],
      "source": [
        "df"
      ]
    },
    {
      "cell_type": "code",
      "execution_count": null,
      "metadata": {
        "colab": {
          "base_uri": "https://localhost:8080/"
        },
        "id": "CqCnH4r9hOaW",
        "outputId": "619d94d8-9ae3-4840-d07e-270f5ed965ef"
      },
      "outputs": [
        {
          "output_type": "execute_result",
          "data": {
            "text/plain": [
              "b'@guardiannews'                                                                                                                                                         7\n",
              "b'@Telegraph'                                                                                                                                                            4\n",
              "b'@ajplus'                                                                                                                                                               4\n",
              "b'@Independent @DaveBrownToons'                                                                                                                                          4\n",
              "b'@DavidClinchNews'                                                                                                                                                      3\n",
              "                                                                                                                                                                        ..\n",
              "b'@5Forty3 @vinod_sharma yeh log ghar jaake apne maa-baap or baccho se kaise aankh milate hai?'                                                                          1\n",
              "b'@5Forty3 @pragnik CC @pallavighcnnibn'                                                                                                                                 1\n",
              "b'\\xe2\\x80\\x9c@5Forty3: Proud of NDTV for upholding India\\'s SECULAR credentials! Nidhi Razdan: \"NOTORIOUS French magazine attacked by armed men\"!! @BDUTT'              1\n",
              "b'@5Forty3 She must be thankful to Hindus all her life # EthicslessJournalism'                                                                                           1\n",
              "b'\\xe2\\x80\\x9c@ABC: French police: Said Kouachi and Cherif Kouachi wanted in Paris terror attack: http://t.co/23BDQCtwKF http://t.co/frcpBYLfxH\\xe2\\x80\\x9dcatch him'    1\n",
              "Name: tweet_reaction_text, Length: 10782, dtype: int64"
            ]
          },
          "metadata": {},
          "execution_count": 42
        }
      ],
      "source": [
        "df['tweet_reaction_text'].value_counts()"
      ]
    },
    {
      "cell_type": "code",
      "execution_count": null,
      "metadata": {
        "id": "prYsHFo-FUSm"
      },
      "outputs": [],
      "source": [
        "import re\n",
        "def clean_text(text):\n",
        "  text = str(text[1:])\n",
        "  text = re.sub('[^a-zA-Z]', \" \", text) #remove punctuations and numbers\n",
        "  text = re.sub(r\"\\s+[a-zA-Z]\\s+\", ' ', text) # Single character removal\n",
        "  text = re.sub(r'\\s+', \" \", text) #remove extra spaces\n",
        "  return text\n",
        "\n",
        "df['tweet_reaction_text'] = df['tweet_reaction_text'].apply(clean_text)\n",
        "df['tweet_source_text'] = df['tweet_source_text'].apply(clean_text)"
      ]
    },
    {
      "cell_type": "code",
      "execution_count": null,
      "metadata": {
        "id": "21Rh6bctg3zG"
      },
      "outputs": [],
      "source": [
        "df['len'] = df['tweet_reaction_text'].apply(lambda x: len(x))"
      ]
    },
    {
      "cell_type": "code",
      "execution_count": null,
      "metadata": {
        "id": "TGDDZHGkkNhC"
      },
      "outputs": [],
      "source": [
        "df = df[df['len']<140]\n",
        "df.reset_index(inplace=True, drop=True)"
      ]
    },
    {
      "cell_type": "code",
      "execution_count": null,
      "metadata": {
        "colab": {
          "base_uri": "https://localhost:8080/",
          "height": 835
        },
        "id": "Fe9zSQ29kNkK",
        "outputId": "2495c874-7de2-402e-e801-d4868edfaa01"
      },
      "outputs": [
        {
          "output_type": "execute_result",
          "data": {
            "text/plain": [
              "          tweet_source_id                                  tweet_source_text  \\\n",
              "0      552821437678223361   Best response to CharlieHebdo attack other th...   \n",
              "1      552821437678223361   Best response to CharlieHebdo attack other th...   \n",
              "2      552821437678223361   Best response to CharlieHebdo attack other th...   \n",
              "3      552821437678223361   Best response to CharlieHebdo attack other th...   \n",
              "4      552821437678223361   Best response to CharlieHebdo attack other th...   \n",
              "...                   ...                                                ...   \n",
              "10603  553152395371630592   This widely shared cartoon about the CharlieH...   \n",
              "10604  553152395371630592   This widely shared cartoon about the CharlieH...   \n",
              "10605  553152395371630592   This widely shared cartoon about the CharlieH...   \n",
              "10606  553160652567498752   French police Said Kouachi and Cherif Kouachi...   \n",
              "10607  553160652567498752   French police Said Kouachi and Cherif Kouachi...   \n",
              "\n",
              "       uverified  ufollowers  ulisted  ustatuses  ufavorites  ageofacc  \\\n",
              "0          False     26094.0    982.0    11003.0       325.0       6.0   \n",
              "1          False     26094.0    982.0    11003.0       325.0       6.0   \n",
              "2          False     26094.0    982.0    11003.0       325.0       6.0   \n",
              "3          False     26094.0    982.0    11003.0       325.0       6.0   \n",
              "4          False     26094.0    982.0    11003.0       325.0       6.0   \n",
              "...          ...         ...      ...        ...         ...       ...   \n",
              "10603       True     58928.0    846.0     4148.0      1411.0       2.0   \n",
              "10604       True     58928.0    846.0     4148.0      1411.0       2.0   \n",
              "10605       True     58928.0    846.0     4148.0      1411.0       2.0   \n",
              "10606       True   3847705.0  37089.0   100712.0       560.0       6.0   \n",
              "10607       True   3847705.0  37089.0   100712.0       560.0       6.0   \n",
              "\n",
              "                                     tweet_reaction_text  annotation  len  \n",
              "0                actuary jacobwe Lots to satirise there            0   40  \n",
              "1       UniversityWatc jacobwe absolutely And they kn...           0  129  \n",
              "2                                           jacobwe Lol            0   13  \n",
              "3       popularcritic jacobwe they can ridicule my re...           0  125  \n",
              "4       nick elt jacobwe to it is m not religious but...           0  109  \n",
              "...                                                  ...         ...  ...  \n",
              "10603                  lydaten wat probeerde je te doen            1   34  \n",
              "10604   sven hove laten zien Prachtige tekening Dacht...           1   54  \n",
              "10605                                           lydaten            1    9  \n",
              "10606   xe x ABC French police Said Kouachi and Cheri...           1  106  \n",
              "10607   xe x ABC French police Said Kouachi and Cheri...           1  138  \n",
              "\n",
              "[10608 rows x 11 columns]"
            ],
            "text/html": [
              "\n",
              "  <div id=\"df-5e21fc54-7df4-4a63-96f1-a08eed493280\">\n",
              "    <div class=\"colab-df-container\">\n",
              "      <div>\n",
              "<style scoped>\n",
              "    .dataframe tbody tr th:only-of-type {\n",
              "        vertical-align: middle;\n",
              "    }\n",
              "\n",
              "    .dataframe tbody tr th {\n",
              "        vertical-align: top;\n",
              "    }\n",
              "\n",
              "    .dataframe thead th {\n",
              "        text-align: right;\n",
              "    }\n",
              "</style>\n",
              "<table border=\"1\" class=\"dataframe\">\n",
              "  <thead>\n",
              "    <tr style=\"text-align: right;\">\n",
              "      <th></th>\n",
              "      <th>tweet_source_id</th>\n",
              "      <th>tweet_source_text</th>\n",
              "      <th>uverified</th>\n",
              "      <th>ufollowers</th>\n",
              "      <th>ulisted</th>\n",
              "      <th>ustatuses</th>\n",
              "      <th>ufavorites</th>\n",
              "      <th>ageofacc</th>\n",
              "      <th>tweet_reaction_text</th>\n",
              "      <th>annotation</th>\n",
              "      <th>len</th>\n",
              "    </tr>\n",
              "  </thead>\n",
              "  <tbody>\n",
              "    <tr>\n",
              "      <th>0</th>\n",
              "      <td>552821437678223361</td>\n",
              "      <td>Best response to CharlieHebdo attack other th...</td>\n",
              "      <td>False</td>\n",
              "      <td>26094.0</td>\n",
              "      <td>982.0</td>\n",
              "      <td>11003.0</td>\n",
              "      <td>325.0</td>\n",
              "      <td>6.0</td>\n",
              "      <td>actuary jacobwe Lots to satirise there</td>\n",
              "      <td>0</td>\n",
              "      <td>40</td>\n",
              "    </tr>\n",
              "    <tr>\n",
              "      <th>1</th>\n",
              "      <td>552821437678223361</td>\n",
              "      <td>Best response to CharlieHebdo attack other th...</td>\n",
              "      <td>False</td>\n",
              "      <td>26094.0</td>\n",
              "      <td>982.0</td>\n",
              "      <td>11003.0</td>\n",
              "      <td>325.0</td>\n",
              "      <td>6.0</td>\n",
              "      <td>UniversityWatc jacobwe absolutely And they kn...</td>\n",
              "      <td>0</td>\n",
              "      <td>129</td>\n",
              "    </tr>\n",
              "    <tr>\n",
              "      <th>2</th>\n",
              "      <td>552821437678223361</td>\n",
              "      <td>Best response to CharlieHebdo attack other th...</td>\n",
              "      <td>False</td>\n",
              "      <td>26094.0</td>\n",
              "      <td>982.0</td>\n",
              "      <td>11003.0</td>\n",
              "      <td>325.0</td>\n",
              "      <td>6.0</td>\n",
              "      <td>jacobwe Lol</td>\n",
              "      <td>0</td>\n",
              "      <td>13</td>\n",
              "    </tr>\n",
              "    <tr>\n",
              "      <th>3</th>\n",
              "      <td>552821437678223361</td>\n",
              "      <td>Best response to CharlieHebdo attack other th...</td>\n",
              "      <td>False</td>\n",
              "      <td>26094.0</td>\n",
              "      <td>982.0</td>\n",
              "      <td>11003.0</td>\n",
              "      <td>325.0</td>\n",
              "      <td>6.0</td>\n",
              "      <td>popularcritic jacobwe they can ridicule my re...</td>\n",
              "      <td>0</td>\n",
              "      <td>125</td>\n",
              "    </tr>\n",
              "    <tr>\n",
              "      <th>4</th>\n",
              "      <td>552821437678223361</td>\n",
              "      <td>Best response to CharlieHebdo attack other th...</td>\n",
              "      <td>False</td>\n",
              "      <td>26094.0</td>\n",
              "      <td>982.0</td>\n",
              "      <td>11003.0</td>\n",
              "      <td>325.0</td>\n",
              "      <td>6.0</td>\n",
              "      <td>nick elt jacobwe to it is m not religious but...</td>\n",
              "      <td>0</td>\n",
              "      <td>109</td>\n",
              "    </tr>\n",
              "    <tr>\n",
              "      <th>...</th>\n",
              "      <td>...</td>\n",
              "      <td>...</td>\n",
              "      <td>...</td>\n",
              "      <td>...</td>\n",
              "      <td>...</td>\n",
              "      <td>...</td>\n",
              "      <td>...</td>\n",
              "      <td>...</td>\n",
              "      <td>...</td>\n",
              "      <td>...</td>\n",
              "      <td>...</td>\n",
              "    </tr>\n",
              "    <tr>\n",
              "      <th>10603</th>\n",
              "      <td>553152395371630592</td>\n",
              "      <td>This widely shared cartoon about the CharlieH...</td>\n",
              "      <td>True</td>\n",
              "      <td>58928.0</td>\n",
              "      <td>846.0</td>\n",
              "      <td>4148.0</td>\n",
              "      <td>1411.0</td>\n",
              "      <td>2.0</td>\n",
              "      <td>lydaten wat probeerde je te doen</td>\n",
              "      <td>1</td>\n",
              "      <td>34</td>\n",
              "    </tr>\n",
              "    <tr>\n",
              "      <th>10604</th>\n",
              "      <td>553152395371630592</td>\n",
              "      <td>This widely shared cartoon about the CharlieH...</td>\n",
              "      <td>True</td>\n",
              "      <td>58928.0</td>\n",
              "      <td>846.0</td>\n",
              "      <td>4148.0</td>\n",
              "      <td>1411.0</td>\n",
              "      <td>2.0</td>\n",
              "      <td>sven hove laten zien Prachtige tekening Dacht...</td>\n",
              "      <td>1</td>\n",
              "      <td>54</td>\n",
              "    </tr>\n",
              "    <tr>\n",
              "      <th>10605</th>\n",
              "      <td>553152395371630592</td>\n",
              "      <td>This widely shared cartoon about the CharlieH...</td>\n",
              "      <td>True</td>\n",
              "      <td>58928.0</td>\n",
              "      <td>846.0</td>\n",
              "      <td>4148.0</td>\n",
              "      <td>1411.0</td>\n",
              "      <td>2.0</td>\n",
              "      <td>lydaten</td>\n",
              "      <td>1</td>\n",
              "      <td>9</td>\n",
              "    </tr>\n",
              "    <tr>\n",
              "      <th>10606</th>\n",
              "      <td>553160652567498752</td>\n",
              "      <td>French police Said Kouachi and Cherif Kouachi...</td>\n",
              "      <td>True</td>\n",
              "      <td>3847705.0</td>\n",
              "      <td>37089.0</td>\n",
              "      <td>100712.0</td>\n",
              "      <td>560.0</td>\n",
              "      <td>6.0</td>\n",
              "      <td>xe x ABC French police Said Kouachi and Cheri...</td>\n",
              "      <td>1</td>\n",
              "      <td>106</td>\n",
              "    </tr>\n",
              "    <tr>\n",
              "      <th>10607</th>\n",
              "      <td>553160652567498752</td>\n",
              "      <td>French police Said Kouachi and Cherif Kouachi...</td>\n",
              "      <td>True</td>\n",
              "      <td>3847705.0</td>\n",
              "      <td>37089.0</td>\n",
              "      <td>100712.0</td>\n",
              "      <td>560.0</td>\n",
              "      <td>6.0</td>\n",
              "      <td>xe x ABC French police Said Kouachi and Cheri...</td>\n",
              "      <td>1</td>\n",
              "      <td>138</td>\n",
              "    </tr>\n",
              "  </tbody>\n",
              "</table>\n",
              "<p>10608 rows × 11 columns</p>\n",
              "</div>\n",
              "      <button class=\"colab-df-convert\" onclick=\"convertToInteractive('df-5e21fc54-7df4-4a63-96f1-a08eed493280')\"\n",
              "              title=\"Convert this dataframe to an interactive table.\"\n",
              "              style=\"display:none;\">\n",
              "        \n",
              "  <svg xmlns=\"http://www.w3.org/2000/svg\" height=\"24px\"viewBox=\"0 0 24 24\"\n",
              "       width=\"24px\">\n",
              "    <path d=\"M0 0h24v24H0V0z\" fill=\"none\"/>\n",
              "    <path d=\"M18.56 5.44l.94 2.06.94-2.06 2.06-.94-2.06-.94-.94-2.06-.94 2.06-2.06.94zm-11 1L8.5 8.5l.94-2.06 2.06-.94-2.06-.94L8.5 2.5l-.94 2.06-2.06.94zm10 10l.94 2.06.94-2.06 2.06-.94-2.06-.94-.94-2.06-.94 2.06-2.06.94z\"/><path d=\"M17.41 7.96l-1.37-1.37c-.4-.4-.92-.59-1.43-.59-.52 0-1.04.2-1.43.59L10.3 9.45l-7.72 7.72c-.78.78-.78 2.05 0 2.83L4 21.41c.39.39.9.59 1.41.59.51 0 1.02-.2 1.41-.59l7.78-7.78 2.81-2.81c.8-.78.8-2.07 0-2.86zM5.41 20L4 18.59l7.72-7.72 1.47 1.35L5.41 20z\"/>\n",
              "  </svg>\n",
              "      </button>\n",
              "      \n",
              "  <style>\n",
              "    .colab-df-container {\n",
              "      display:flex;\n",
              "      flex-wrap:wrap;\n",
              "      gap: 12px;\n",
              "    }\n",
              "\n",
              "    .colab-df-convert {\n",
              "      background-color: #E8F0FE;\n",
              "      border: none;\n",
              "      border-radius: 50%;\n",
              "      cursor: pointer;\n",
              "      display: none;\n",
              "      fill: #1967D2;\n",
              "      height: 32px;\n",
              "      padding: 0 0 0 0;\n",
              "      width: 32px;\n",
              "    }\n",
              "\n",
              "    .colab-df-convert:hover {\n",
              "      background-color: #E2EBFA;\n",
              "      box-shadow: 0px 1px 2px rgba(60, 64, 67, 0.3), 0px 1px 3px 1px rgba(60, 64, 67, 0.15);\n",
              "      fill: #174EA6;\n",
              "    }\n",
              "\n",
              "    [theme=dark] .colab-df-convert {\n",
              "      background-color: #3B4455;\n",
              "      fill: #D2E3FC;\n",
              "    }\n",
              "\n",
              "    [theme=dark] .colab-df-convert:hover {\n",
              "      background-color: #434B5C;\n",
              "      box-shadow: 0px 1px 3px 1px rgba(0, 0, 0, 0.15);\n",
              "      filter: drop-shadow(0px 1px 2px rgba(0, 0, 0, 0.3));\n",
              "      fill: #FFFFFF;\n",
              "    }\n",
              "  </style>\n",
              "\n",
              "      <script>\n",
              "        const buttonEl =\n",
              "          document.querySelector('#df-5e21fc54-7df4-4a63-96f1-a08eed493280 button.colab-df-convert');\n",
              "        buttonEl.style.display =\n",
              "          google.colab.kernel.accessAllowed ? 'block' : 'none';\n",
              "\n",
              "        async function convertToInteractive(key) {\n",
              "          const element = document.querySelector('#df-5e21fc54-7df4-4a63-96f1-a08eed493280');\n",
              "          const dataTable =\n",
              "            await google.colab.kernel.invokeFunction('convertToInteractive',\n",
              "                                                     [key], {});\n",
              "          if (!dataTable) return;\n",
              "\n",
              "          const docLinkHtml = 'Like what you see? Visit the ' +\n",
              "            '<a target=\"_blank\" href=https://colab.research.google.com/notebooks/data_table.ipynb>data table notebook</a>'\n",
              "            + ' to learn more about interactive tables.';\n",
              "          element.innerHTML = '';\n",
              "          dataTable['output_type'] = 'display_data';\n",
              "          await google.colab.output.renderOutput(dataTable, element);\n",
              "          const docLink = document.createElement('div');\n",
              "          docLink.innerHTML = docLinkHtml;\n",
              "          element.appendChild(docLink);\n",
              "        }\n",
              "      </script>\n",
              "    </div>\n",
              "  </div>\n",
              "  "
            ]
          },
          "metadata": {},
          "execution_count": 46
        }
      ],
      "source": [
        "df"
      ]
    },
    {
      "cell_type": "markdown",
      "metadata": {
        "id": "P2h691iEFZJ4"
      },
      "source": [
        "# **Bert Model**"
      ]
    },
    {
      "cell_type": "code",
      "execution_count": null,
      "metadata": {
        "colab": {
          "base_uri": "https://localhost:8080/"
        },
        "id": "aYtzmXh1FV3i",
        "outputId": "628b9a73-a2ef-4874-af23-7ced94140627"
      },
      "outputs": [
        {
          "output_type": "stream",
          "name": "stdout",
          "text": [
            "Looking in indexes: https://pypi.org/simple, https://us-python.pkg.dev/colab-wheels/public/simple/\n",
            "Requirement already satisfied: transformers in /usr/local/lib/python3.7/dist-packages (4.21.2)\n",
            "Requirement already satisfied: numpy>=1.17 in /usr/local/lib/python3.7/dist-packages (from transformers) (1.21.6)\n",
            "Requirement already satisfied: huggingface-hub<1.0,>=0.1.0 in /usr/local/lib/python3.7/dist-packages (from transformers) (0.9.1)\n",
            "Requirement already satisfied: filelock in /usr/local/lib/python3.7/dist-packages (from transformers) (3.8.0)\n",
            "Requirement already satisfied: importlib-metadata in /usr/local/lib/python3.7/dist-packages (from transformers) (4.12.0)\n",
            "Requirement already satisfied: pyyaml>=5.1 in /usr/local/lib/python3.7/dist-packages (from transformers) (6.0)\n",
            "Requirement already satisfied: requests in /usr/local/lib/python3.7/dist-packages (from transformers) (2.23.0)\n",
            "Requirement already satisfied: tqdm>=4.27 in /usr/local/lib/python3.7/dist-packages (from transformers) (4.64.0)\n",
            "Requirement already satisfied: tokenizers!=0.11.3,<0.13,>=0.11.1 in /usr/local/lib/python3.7/dist-packages (from transformers) (0.12.1)\n",
            "Requirement already satisfied: packaging>=20.0 in /usr/local/lib/python3.7/dist-packages (from transformers) (21.3)\n",
            "Requirement already satisfied: regex!=2019.12.17 in /usr/local/lib/python3.7/dist-packages (from transformers) (2022.6.2)\n",
            "Requirement already satisfied: typing-extensions>=3.7.4.3 in /usr/local/lib/python3.7/dist-packages (from huggingface-hub<1.0,>=0.1.0->transformers) (4.1.1)\n",
            "Requirement already satisfied: pyparsing!=3.0.5,>=2.0.2 in /usr/local/lib/python3.7/dist-packages (from packaging>=20.0->transformers) (3.0.9)\n",
            "Requirement already satisfied: zipp>=0.5 in /usr/local/lib/python3.7/dist-packages (from importlib-metadata->transformers) (3.8.1)\n",
            "Requirement already satisfied: idna<3,>=2.5 in /usr/local/lib/python3.7/dist-packages (from requests->transformers) (2.10)\n",
            "Requirement already satisfied: certifi>=2017.4.17 in /usr/local/lib/python3.7/dist-packages (from requests->transformers) (2022.6.15)\n",
            "Requirement already satisfied: urllib3!=1.25.0,!=1.25.1,<1.26,>=1.21.1 in /usr/local/lib/python3.7/dist-packages (from requests->transformers) (1.24.3)\n",
            "Requirement already satisfied: chardet<4,>=3.0.2 in /usr/local/lib/python3.7/dist-packages (from requests->transformers) (3.0.4)\n"
          ]
        }
      ],
      "source": [
        "!pip install transformers"
      ]
    },
    {
      "cell_type": "code",
      "execution_count": null,
      "metadata": {
        "id": "kmE4FRDCFeol"
      },
      "outputs": [],
      "source": [
        "import pandas as pd\n",
        "import numpy as np\n",
        "from tqdm.auto import tqdm\n",
        "import tensorflow as tf\n",
        "from transformers import BertTokenizer"
      ]
    },
    {
      "cell_type": "code",
      "execution_count": null,
      "metadata": {
        "id": "GmklvQpzFeqp"
      },
      "outputs": [],
      "source": [
        "tokenizer = BertTokenizer.from_pretrained('bert-base-uncased')"
      ]
    },
    {
      "cell_type": "code",
      "execution_count": null,
      "metadata": {
        "id": "1_HjwV13Fesb"
      },
      "outputs": [],
      "source": [
        "X_input_ids = np.zeros((len(df), 280))\n",
        "X_attn_masks = np.zeros((len(df), 280))"
      ]
    },
    {
      "cell_type": "code",
      "execution_count": null,
      "metadata": {
        "colab": {
          "base_uri": "https://localhost:8080/"
        },
        "id": "pg6z9o3MK7qw",
        "outputId": "1d226385-d8a8-43e6-a785-e319b9582c71"
      },
      "outputs": [
        {
          "output_type": "execute_result",
          "data": {
            "text/plain": [
              "((10608, 280), (10608, 280))"
            ]
          },
          "metadata": {},
          "execution_count": 51
        }
      ],
      "source": [
        "X_input_ids.shape, X_attn_masks.shape"
      ]
    },
    {
      "cell_type": "code",
      "execution_count": null,
      "metadata": {
        "id": "S-Pm5dZ2LNZx"
      },
      "outputs": [],
      "source": [
        "# X_input_ids[1, :] = X_attn_masks[1, :]\n",
        "# X_input_ids[1, :]"
      ]
    },
    {
      "cell_type": "code",
      "execution_count": null,
      "metadata": {
        "id": "paf24VfGFuib"
      },
      "outputs": [],
      "source": [
        "def generate_training_data(df, ids, masks, tokenizer):\n",
        "    for i, (twet, res) in enumerate(zip(df['tweet_source_text'], df['tweet_reaction_text'])):\n",
        "        #print(res)\n",
        "        tokenized_text = tokenizer(\n",
        "            twet,\n",
        "            res,\n",
        "            max_length=280, \n",
        "            truncation=True, \n",
        "            padding='max_length', \n",
        "            add_special_tokens=True,\n",
        "            return_tensors='tf'\n",
        "        )\n",
        "        \n",
        "        ids[i, :] = tokenized_text.input_ids\n",
        "        masks[i, :] = tokenized_text.attention_mask\n",
        "    return ids, masks\n",
        "    #return None\n"
      ]
    },
    {
      "cell_type": "code",
      "execution_count": null,
      "metadata": {
        "id": "RRSg9GUEFulA"
      },
      "outputs": [],
      "source": [
        "X_input_ids, X_attn_masks = generate_training_data(df, X_input_ids, X_attn_masks, tokenizer)\n",
        "#generate_training_data(df, X_input_ids, X_attn_masks, tokenizer)"
      ]
    },
    {
      "cell_type": "code",
      "execution_count": null,
      "metadata": {
        "colab": {
          "base_uri": "https://localhost:8080/"
        },
        "id": "NViRFJKUP_fE",
        "outputId": "d4ab3e99-612d-440c-c661-d7a71c95ad21"
      },
      "outputs": [
        {
          "output_type": "execute_result",
          "data": {
            "text/plain": [
              "((10608, 280), (10608, 280))"
            ]
          },
          "metadata": {},
          "execution_count": 55
        }
      ],
      "source": [
        "X_input_ids.shape, X_attn_masks.shape"
      ]
    },
    {
      "cell_type": "code",
      "execution_count": null,
      "metadata": {
        "colab": {
          "base_uri": "https://localhost:8080/"
        },
        "id": "-ZtQVDI4CzEi",
        "outputId": "7c55f976-b365-480d-d58d-de14eeec6666"
      },
      "outputs": [
        {
          "output_type": "execute_result",
          "data": {
            "text/plain": [
              "array([  101.,  2256.,  4301.,  2024.,  2256.,  6956.,  2058.,  1999.,\n",
              "        2605.,  2317.,  4580., 14056.,  2758.,  8299.,  2522.,  1051.,\n",
              "       12322.,  2480.,  3723.,  2226.,  1047.,  2140.,  4918.,  5369.,\n",
              "        2497.,  3527., 18699.,  4779.,  4523.,  2522.,  7020.,  1043.,\n",
              "        5104.,  2094., 28816.,   102.,  2136.,  2102.,  9148.,  2923.,\n",
              "        2480.,  2017.,  2128.,  2725.,  2009.,  2005.,  1996.,  2769.,\n",
              "        2008.,  3100.,  3374.,  4287.,  2006.,  1037.,  2100.,  8516.,\n",
              "        2863.,  9541.,   102.,     0.,     0.,     0.,     0.,     0.,\n",
              "           0.,     0.,     0.,     0.,     0.,     0.,     0.,     0.,\n",
              "           0.,     0.,     0.,     0.,     0.,     0.,     0.,     0.,\n",
              "           0.,     0.,     0.,     0.,     0.,     0.,     0.,     0.,\n",
              "           0.,     0.,     0.,     0.,     0.,     0.,     0.,     0.,\n",
              "           0.,     0.,     0.,     0.,     0.,     0.,     0.,     0.,\n",
              "           0.,     0.,     0.,     0.,     0.,     0.,     0.,     0.,\n",
              "           0.,     0.,     0.,     0.,     0.,     0.,     0.,     0.,\n",
              "           0.,     0.,     0.,     0.,     0.,     0.,     0.,     0.,\n",
              "           0.,     0.,     0.,     0.,     0.,     0.,     0.,     0.,\n",
              "           0.,     0.,     0.,     0.,     0.,     0.,     0.,     0.,\n",
              "           0.,     0.,     0.,     0.,     0.,     0.,     0.,     0.,\n",
              "           0.,     0.,     0.,     0.,     0.,     0.,     0.,     0.,\n",
              "           0.,     0.,     0.,     0.,     0.,     0.,     0.,     0.,\n",
              "           0.,     0.,     0.,     0.,     0.,     0.,     0.,     0.,\n",
              "           0.,     0.,     0.,     0.,     0.,     0.,     0.,     0.,\n",
              "           0.,     0.,     0.,     0.,     0.,     0.,     0.,     0.,\n",
              "           0.,     0.,     0.,     0.,     0.,     0.,     0.,     0.,\n",
              "           0.,     0.,     0.,     0.,     0.,     0.,     0.,     0.,\n",
              "           0.,     0.,     0.,     0.,     0.,     0.,     0.,     0.,\n",
              "           0.,     0.,     0.,     0.,     0.,     0.,     0.,     0.,\n",
              "           0.,     0.,     0.,     0.,     0.,     0.,     0.,     0.,\n",
              "           0.,     0.,     0.,     0.,     0.,     0.,     0.,     0.,\n",
              "           0.,     0.,     0.,     0.,     0.,     0.,     0.,     0.,\n",
              "           0.,     0.,     0.,     0.,     0.,     0.,     0.,     0.,\n",
              "           0.,     0.,     0.,     0.,     0.,     0.,     0.,     0.,\n",
              "           0.,     0.,     0.,     0.,     0.,     0.,     0.,     0.,\n",
              "           0.,     0.,     0.,     0.,     0.,     0.,     0.,     0.])"
            ]
          },
          "metadata": {},
          "execution_count": 56
        }
      ],
      "source": [
        "X_input_ids[3445]"
      ]
    },
    {
      "cell_type": "code",
      "execution_count": null,
      "metadata": {
        "colab": {
          "base_uri": "https://localhost:8080/"
        },
        "id": "z449LXCEF6ti",
        "outputId": "eb84b1bd-a08e-4624-d11d-18bae7e57f6b"
      },
      "outputs": [
        {
          "output_type": "execute_result",
          "data": {
            "text/plain": [
              "(10608, 3)"
            ]
          },
          "metadata": {},
          "execution_count": 57
        }
      ],
      "source": [
        "labels = np.zeros((len(df), 3))\n",
        "labels.shape"
      ]
    },
    {
      "cell_type": "code",
      "execution_count": null,
      "metadata": {
        "id": "7DKJ9baYF6w5",
        "colab": {
          "base_uri": "https://localhost:8080/"
        },
        "outputId": "bb3c8b28-20f0-4c39-b085-fe2a9007c24b"
      },
      "outputs": [
        {
          "output_type": "execute_result",
          "data": {
            "text/plain": [
              "(10608, 3)"
            ]
          },
          "metadata": {},
          "execution_count": 58
        }
      ],
      "source": [
        "labels[np.arange(len(df)), df['annotation'].values] = 1 # one-hot encoded target tensor\n",
        "labels.shape"
      ]
    },
    {
      "cell_type": "code",
      "execution_count": null,
      "metadata": {
        "colab": {
          "base_uri": "https://localhost:8080/"
        },
        "id": "vsUMrFWoF6yt",
        "outputId": "aea835bb-1bb2-4038-be0e-61d4cfe62692"
      },
      "outputs": [
        {
          "output_type": "execute_result",
          "data": {
            "text/plain": [
              "<TakeDataset element_spec=(TensorSpec(shape=(280,), dtype=tf.float64, name=None), TensorSpec(shape=(280,), dtype=tf.float64, name=None), TensorSpec(shape=(3,), dtype=tf.float64, name=None))>"
            ]
          },
          "metadata": {},
          "execution_count": 59
        }
      ],
      "source": [
        "# creating a data pipeline using tensorflow dataset utility, creates batches of data for easy loading...\n",
        "dataset = tf.data.Dataset.from_tensor_slices((X_input_ids, X_attn_masks, labels))\n",
        "dataset.take(1) # one sample data"
      ]
    },
    {
      "cell_type": "code",
      "execution_count": null,
      "metadata": {
        "id": "hs4Lt9JzF60f"
      },
      "outputs": [],
      "source": [
        "def SentimentDatasetMapFunction(input_ids, attn_masks, labels):\n",
        "    return {\n",
        "        'input_ids': input_ids,\n",
        "        'attention_mask': attn_masks\n",
        "    }, labels"
      ]
    },
    {
      "cell_type": "code",
      "execution_count": null,
      "metadata": {
        "id": "-gAJTHB1F63N"
      },
      "outputs": [],
      "source": [
        "dataset = dataset.map(SentimentDatasetMapFunction) # converting to required format for tensorflow dataset"
      ]
    },
    {
      "cell_type": "code",
      "execution_count": null,
      "metadata": {
        "id": "6J7Is6tUFunA"
      },
      "outputs": [],
      "source": [
        "dataset = dataset.shuffle(10000).batch(8, drop_remainder=True) # batch size, drop any left out tensor"
      ]
    },
    {
      "cell_type": "code",
      "execution_count": null,
      "metadata": {
        "colab": {
          "base_uri": "https://localhost:8080/"
        },
        "id": "LNyh-1lZFupb",
        "outputId": "43d18014-e974-4732-c185-239ea3bf98c6"
      },
      "outputs": [
        {
          "output_type": "stream",
          "name": "stdout",
          "text": [
            "1060\n"
          ]
        }
      ],
      "source": [
        "p = 0.8\n",
        "train_size = int((len(df)//8)*p) # for each 16 batch of data we will have len(df)//16 samples, take 80% of that for train.\n",
        "print(train_size)"
      ]
    },
    {
      "cell_type": "code",
      "execution_count": null,
      "metadata": {
        "colab": {
          "base_uri": "https://localhost:8080/"
        },
        "id": "yp6jeG43GQwy",
        "outputId": "cef8a255-90f9-4c4d-eb7d-d63eb5ce3608"
      },
      "outputs": [
        {
          "output_type": "stream",
          "name": "stdout",
          "text": [
            "<TakeDataset element_spec=({'input_ids': TensorSpec(shape=(8, 280), dtype=tf.float64, name=None), 'attention_mask': TensorSpec(shape=(8, 280), dtype=tf.float64, name=None)}, TensorSpec(shape=(8, 3), dtype=tf.float64, name=None))>\n",
            "<SkipDataset element_spec=({'input_ids': TensorSpec(shape=(8, 280), dtype=tf.float64, name=None), 'attention_mask': TensorSpec(shape=(8, 280), dtype=tf.float64, name=None)}, TensorSpec(shape=(8, 3), dtype=tf.float64, name=None))>\n"
          ]
        }
      ],
      "source": [
        "train_dataset = dataset.take(train_size)\n",
        "val_dataset = dataset.skip(train_size)\n",
        "print(train_dataset)\n",
        "print(val_dataset)"
      ]
    },
    {
      "cell_type": "markdown",
      "metadata": {
        "id": "vhhH9pgQGUzV"
      },
      "source": [
        "# **Model**"
      ]
    },
    {
      "cell_type": "code",
      "execution_count": null,
      "metadata": {
        "id": "Kg6WuxpCGQzg"
      },
      "outputs": [],
      "source": [
        "from transformers import TFBertModel"
      ]
    },
    {
      "cell_type": "code",
      "execution_count": null,
      "metadata": {
        "colab": {
          "base_uri": "https://localhost:8080/"
        },
        "id": "-3RMLWTaGQ3-",
        "outputId": "ed6d90b7-3da0-4316-d031-5163ef8383f6"
      },
      "outputs": [
        {
          "output_type": "stream",
          "name": "stderr",
          "text": [
            "Some layers from the model checkpoint at bert-base-uncased were not used when initializing TFBertModel: ['mlm___cls', 'nsp___cls']\n",
            "- This IS expected if you are initializing TFBertModel from the checkpoint of a model trained on another task or with another architecture (e.g. initializing a BertForSequenceClassification model from a BertForPreTraining model).\n",
            "- This IS NOT expected if you are initializing TFBertModel from the checkpoint of a model that you expect to be exactly identical (initializing a BertForSequenceClassification model from a BertForSequenceClassification model).\n",
            "All the layers of TFBertModel were initialized from the model checkpoint at bert-base-uncased.\n",
            "If your task is similar to the task the model of the checkpoint was trained on, you can already use TFBertModel for predictions without further training.\n"
          ]
        }
      ],
      "source": [
        "model1 = TFBertModel.from_pretrained('bert-base-uncased') # bert base model with pretrained weights"
      ]
    },
    {
      "cell_type": "code",
      "execution_count": null,
      "metadata": {
        "colab": {
          "base_uri": "https://localhost:8080/"
        },
        "id": "99r9jTbPGQ65",
        "outputId": "15265417-64cb-4119-d000-84163d4e735b"
      },
      "outputs": [
        {
          "output_type": "stream",
          "name": "stdout",
          "text": [
            "Model: \"model_1\"\n",
            "__________________________________________________________________________________________________\n",
            " Layer (type)                   Output Shape         Param #     Connected to                     \n",
            "==================================================================================================\n",
            " input_ids (InputLayer)         [(None, 280)]        0           []                               \n",
            "                                                                                                  \n",
            " attention_mask (InputLayer)    [(None, 280)]        0           []                               \n",
            "                                                                                                  \n",
            " bert (TFBertMainLayer)         TFBaseModelOutputWi  109482240   ['input_ids[0][0]',              \n",
            "                                thPoolingAndCrossAt               'attention_mask[0][0]']         \n",
            "                                tentions(last_hidde                                               \n",
            "                                n_state=(None, 280,                                               \n",
            "                                 768),                                                            \n",
            "                                 pooler_output=(Non                                               \n",
            "                                e, 768),                                                          \n",
            "                                 past_key_values=No                                               \n",
            "                                ne, hidden_states=N                                               \n",
            "                                one, attentions=Non                                               \n",
            "                                e, cross_attentions                                               \n",
            "                                =None)                                                            \n",
            "                                                                                                  \n",
            " intermediate_layer (Dense)     (None, 128)          98432       ['bert[0][1]']                   \n",
            "                                                                                                  \n",
            " output_layer (Dense)           (None, 3)            387         ['intermediate_layer[0][0]']     \n",
            "                                                                                                  \n",
            "==================================================================================================\n",
            "Total params: 109,581,059\n",
            "Trainable params: 109,581,059\n",
            "Non-trainable params: 0\n",
            "__________________________________________________________________________________________________\n"
          ]
        }
      ],
      "source": [
        "# defining 2 input layers for input_ids and attn_masks\n",
        "input_ids = tf.keras.layers.Input(shape=(280,), name='input_ids', dtype='int32')\n",
        "attn_masks = tf.keras.layers.Input(shape=(280,), name='attention_mask', dtype='int32')\n",
        "#initiazed the bert with above 2 input layers\n",
        "bert_embds = model1.bert(input_ids, attention_mask=attn_masks)[1] # 0 -> activation layer (3D), 1 -> pooled output layer (2D)\n",
        "\n",
        "#2 RELU -> neuron activation. \n",
        "intermediate_layer = tf.keras.layers.Dense(128, activation='relu', name='intermediate_layer')(bert_embds)\n",
        "\n",
        "#3 intermediate layer is passed for output . 3 is neuron-> positive,negative,neutral\n",
        "output_layer = tf.keras.layers.Dense(3, activation='softmax', name='output_layer')(intermediate_layer) # softmax -> calcs probs of classes\n",
        "\n",
        "sentiment_model1 = tf.keras.Model(inputs=[input_ids, attn_masks], outputs=output_layer)\n",
        "sentiment_model1.summary()"
      ]
    },
    {
      "cell_type": "code",
      "execution_count": null,
      "metadata": {
        "colab": {
          "base_uri": "https://localhost:8080/"
        },
        "id": "rr8go4PFrdl1",
        "outputId": "7dc2d1cc-341d-4ffe-a99d-d1af168e6f3b"
      },
      "outputs": [
        {
          "output_type": "stream",
          "name": "stdout",
          "text": [
            "Looking in indexes: https://pypi.org/simple, https://us-python.pkg.dev/colab-wheels/public/simple/\n",
            "Requirement already satisfied: keras_metrics in /usr/local/lib/python3.7/dist-packages (1.1.0)\n",
            "Requirement already satisfied: Keras>=2.1.5 in /usr/local/lib/python3.7/dist-packages (from keras_metrics) (2.8.0)\n"
          ]
        }
      ],
      "source": [
        "!pip install keras_metrics"
      ]
    },
    {
      "cell_type": "code",
      "execution_count": null,
      "metadata": {
        "colab": {
          "base_uri": "https://localhost:8080/"
        },
        "id": "lAzksn7qrhNl",
        "outputId": "af32c3cc-45c8-456d-87cd-364c8d006cfe"
      },
      "outputs": [
        {
          "output_type": "stream",
          "name": "stdout",
          "text": [
            "precision\n",
            "recall\n",
            "f1_score\n"
          ]
        }
      ],
      "source": [
        "import keras_metrics\n",
        "optim = tf.keras.optimizers.Adam(learning_rate=1e-5, decay=1e-6)\n",
        "loss_func = tf.keras.losses.CategoricalCrossentropy()\n",
        "acc = tf.keras.metrics.CategoricalAccuracy('accuracy')\n",
        "print(keras_metrics.precision().name)\n",
        "print(keras_metrics.recall().name)\n",
        "print(keras_metrics.f1_score().name)\n",
        "precision = keras_metrics.precision()\n",
        "recall = keras_metrics.recall()\n",
        "f1 = keras_metrics.f1_score()"
      ]
    },
    {
      "cell_type": "code",
      "execution_count": null,
      "metadata": {
        "id": "Auqbop1rGelE"
      },
      "outputs": [],
      "source": [
        "optim = tf.keras.optimizers.Adam(learning_rate=1e-5, decay=1e-6)\n",
        "loss_func = tf.keras.losses.CategoricalCrossentropy()\n",
        "acc = tf.keras.metrics.CategoricalAccuracy('accuracy')"
      ]
    },
    {
      "cell_type": "code",
      "execution_count": null,
      "metadata": {
        "id": "kE4n4sxqGenr"
      },
      "outputs": [],
      "source": [
        "sentiment_model1.compile(optimizer=optim, loss=loss_func, metrics=[acc,precision,recall,f1])"
      ]
    },
    {
      "cell_type": "code",
      "execution_count": null,
      "metadata": {
        "colab": {
          "base_uri": "https://localhost:8080/"
        },
        "id": "dwPEEk0MGepo",
        "outputId": "7ce4f681-91b1-4831-9b65-f4e9092c1232"
      },
      "outputs": [
        {
          "output_type": "stream",
          "name": "stdout",
          "text": [
            "Epoch 1/2\n"
          ]
        },
        {
          "output_type": "stream",
          "name": "stderr",
          "text": [
            "WARNING:tensorflow:`add_update` `inputs` kwarg has been deprecated. You no longer need to pass a value to `inputs` as it is being automatically inferred.\n",
            "WARNING:tensorflow:`add_update` `inputs` kwarg has been deprecated. You no longer need to pass a value to `inputs` as it is being automatically inferred.\n",
            "/usr/local/lib/python3.7/dist-packages/keras_metrics/metrics.py:26: UserWarning: `layer.updates` will be removed in a future version. This property should not be used in TensorFlow 2.0, as `updates` are applied automatically.\n",
            "  return object.__getattribute__(self, name)\n",
            "WARNING:tensorflow:`add_update` `inputs` kwarg has been deprecated. You no longer need to pass a value to `inputs` as it is being automatically inferred.\n",
            "WARNING:tensorflow:`add_update` `inputs` kwarg has been deprecated. You no longer need to pass a value to `inputs` as it is being automatically inferred.\n",
            "WARNING:tensorflow:`add_update` `inputs` kwarg has been deprecated. You no longer need to pass a value to `inputs` as it is being automatically inferred.\n",
            "WARNING:tensorflow:`add_update` `inputs` kwarg has been deprecated. You no longer need to pass a value to `inputs` as it is being automatically inferred.\n",
            "WARNING:tensorflow:`add_update` `inputs` kwarg has been deprecated. You no longer need to pass a value to `inputs` as it is being automatically inferred.\n",
            "WARNING:tensorflow:`add_update` `inputs` kwarg has been deprecated. You no longer need to pass a value to `inputs` as it is being automatically inferred.\n",
            "WARNING:tensorflow:`add_update` `inputs` kwarg has been deprecated. You no longer need to pass a value to `inputs` as it is being automatically inferred.\n",
            "WARNING:tensorflow:`add_update` `inputs` kwarg has been deprecated. You no longer need to pass a value to `inputs` as it is being automatically inferred.\n",
            "WARNING:tensorflow:`add_update` `inputs` kwarg has been deprecated. You no longer need to pass a value to `inputs` as it is being automatically inferred.\n",
            "WARNING:tensorflow:`add_update` `inputs` kwarg has been deprecated. You no longer need to pass a value to `inputs` as it is being automatically inferred.\n",
            "WARNING:tensorflow:`add_update` `inputs` kwarg has been deprecated. You no longer need to pass a value to `inputs` as it is being automatically inferred.\n",
            "WARNING:tensorflow:`add_update` `inputs` kwarg has been deprecated. You no longer need to pass a value to `inputs` as it is being automatically inferred.\n",
            "WARNING:tensorflow:`add_update` `inputs` kwarg has been deprecated. You no longer need to pass a value to `inputs` as it is being automatically inferred.\n",
            "WARNING:tensorflow:`add_update` `inputs` kwarg has been deprecated. You no longer need to pass a value to `inputs` as it is being automatically inferred.\n"
          ]
        },
        {
          "output_type": "stream",
          "name": "stdout",
          "text": [
            "1060/1060 [==============================] - ETA: 0s - loss: 0.0984 - accuracy: 0.9646 - precision: 0.9270 - recall: 0.9422 - f1_score: 0.9329"
          ]
        },
        {
          "output_type": "stream",
          "name": "stderr",
          "text": [
            "WARNING:tensorflow:`add_update` `inputs` kwarg has been deprecated. You no longer need to pass a value to `inputs` as it is being automatically inferred.\n",
            "WARNING:tensorflow:`add_update` `inputs` kwarg has been deprecated. You no longer need to pass a value to `inputs` as it is being automatically inferred.\n",
            "WARNING:tensorflow:`add_update` `inputs` kwarg has been deprecated. You no longer need to pass a value to `inputs` as it is being automatically inferred.\n",
            "WARNING:tensorflow:`add_update` `inputs` kwarg has been deprecated. You no longer need to pass a value to `inputs` as it is being automatically inferred.\n",
            "WARNING:tensorflow:`add_update` `inputs` kwarg has been deprecated. You no longer need to pass a value to `inputs` as it is being automatically inferred.\n",
            "WARNING:tensorflow:`add_update` `inputs` kwarg has been deprecated. You no longer need to pass a value to `inputs` as it is being automatically inferred.\n",
            "WARNING:tensorflow:`add_update` `inputs` kwarg has been deprecated. You no longer need to pass a value to `inputs` as it is being automatically inferred.\n",
            "WARNING:tensorflow:`add_update` `inputs` kwarg has been deprecated. You no longer need to pass a value to `inputs` as it is being automatically inferred.\n"
          ]
        },
        {
          "output_type": "stream",
          "name": "stdout",
          "text": [
            "\b\b\b\b\b\b\b\b\b\b\b\b\b\b\b\b\b\b\b\b\b\b\b\b\b\b\b\b\b\b\b\b\b\b\b\b\b\b\b\b\b\b\b\b\b\b\b\b\b\b\b\b\b\b\b\b\b\b\b\b\b\b\b\b\b\b\b\b\b\b\b\b\b\b\b\b\b\b\b\b\b\b\b\b\b\b\b\b\b\b\b\b\b\b\b\b\b\b\b\b\b\b\b\b\b\b\b\b\b\b\b\b\b\b\b\b\b\b\b\b\b\b\b\b\b\b\b\b\b\b\b\b\b\b\b\b\b\b\b\b\b\b\r1060/1060 [==============================] - 356s 324ms/step - loss: 0.0984 - accuracy: 0.9646 - precision: 0.9270 - recall: 0.9422 - f1_score: 0.9329 - val_loss: 0.0124 - val_accuracy: 0.9977 - val_precision: 0.9745 - val_recall: 0.9843 - val_f1_score: 0.9794\n",
            "Epoch 2/2\n",
            "1060/1060 [==============================] - 341s 322ms/step - loss: 0.0112 - accuracy: 0.9972 - precision: 0.9825 - recall: 0.9894 - f1_score: 0.9859 - val_loss: 0.0043 - val_accuracy: 0.9995 - val_precision: 0.9870 - val_recall: 0.9918 - val_f1_score: 0.9894\n"
          ]
        }
      ],
      "source": [
        "###charlie direct all charlie tweets and responses as input\n",
        "hist = sentiment_model1.fit(\n",
        "    train_dataset,\n",
        "    validation_data=val_dataset,\n",
        "    epochs=2\n",
        ")"
      ]
    },
    {
      "cell_type": "code",
      "execution_count": null,
      "metadata": {
        "id": "7X5_MvgsVt5A"
      },
      "outputs": [],
      "source": [
        "\n",
        "#Now we want to get the predicted label for the tweet and response\n",
        "#we will give input from CharlieTest.csv\n"
      ]
    },
    {
      "cell_type": "code",
      "execution_count": null,
      "metadata": {
        "id": "mX_UIFlvyBwm",
        "colab": {
          "base_uri": "https://localhost:8080/"
        },
        "outputId": "5ecd78fa-cc5c-4dd9-934b-5dece19d95c0"
      },
      "outputs": [
        {
          "output_type": "stream",
          "name": "stdout",
          "text": [
            "         tweet_source_id                                  tweet_source_text  \\\n",
            "0     552784600502915072  b'Charlie Hebdo became well known for publishi...   \n",
            "1     552784600502915072  b'Charlie Hebdo became well known for publishi...   \n",
            "2     552784600502915072  b'Charlie Hebdo became well known for publishi...   \n",
            "3     552784600502915072  b'Charlie Hebdo became well known for publishi...   \n",
            "4     552784600502915072  b'Charlie Hebdo became well known for publishi...   \n",
            "...                  ...                                                ...   \n",
            "7214  552805488631758849  b\"At least 12 killed in today's attack on sati...   \n",
            "7215  552805488631758849  b\"At least 12 killed in today's attack on sati...   \n",
            "7216  552805488631758849  b\"At least 12 killed in today's attack on sati...   \n",
            "7217  552805488631758849  b\"At least 12 killed in today's attack on sati...   \n",
            "7218  552805488631758849  b\"At least 12 killed in today's attack on sati...   \n",
            "\n",
            "      uverified  ufollowers   ulisted  ustatuses  ufavorites  ageofacc  \\\n",
            "0          True     41591.0    1657.0    15128.0         0.0       4.0   \n",
            "1          True     41591.0    1657.0    15128.0         0.0       4.0   \n",
            "2          True     41591.0    1657.0    15128.0         0.0       4.0   \n",
            "3          True     41591.0    1657.0    15128.0         0.0       4.0   \n",
            "4          True     41591.0    1657.0    15128.0         0.0       4.0   \n",
            "...         ...         ...       ...        ...         ...       ...   \n",
            "7214       True  22667902.0  160810.0    37161.0        13.0       8.0   \n",
            "7215       True  22667902.0  160810.0    37161.0        13.0       8.0   \n",
            "7216       True  22667902.0  160810.0    37161.0        13.0       8.0   \n",
            "7217       True  22667902.0  160810.0    37161.0        13.0       8.0   \n",
            "7218       True  22667902.0  160810.0    37161.0        13.0       8.0   \n",
            "\n",
            "                                    tweet_reaction_text  annotation  \n",
            "0     b'Now 10 dead in a shooting there today RT \"@B...           0  \n",
            "1     b\"@BBCDanielS @BBCWorld I'm guessing this is b...           0  \n",
            "2     b'@BBCDanielS @BBCWorld why would you mention ...           0  \n",
            "3            b'@BBCDanielS @BBCWorld perps identified?'           0  \n",
            "4        b'@BBCDanielS @BBCWorld who is charlie hebdo?'           0  \n",
            "...                                                 ...         ...  \n",
            "7214  b'@Chusid2015 @DaliaChai @cnnbrk hehe u Jews a...           1  \n",
            "7215  b'@DaliaChai @cnnbrk u r not getting my point ...           1  \n",
            "7216  b'@Chusid2015 @DaliaChai @cnnbrk look you fool...           1  \n",
            "7217  b'@hassanbasmer @cnnbrk free speech. They made...           1  \n",
            "7218  b\"@hassanbasmer @Mariodinava @cnnbrk Bcoz they...           1  \n",
            "\n",
            "[7219 rows x 10 columns]\n"
          ]
        }
      ],
      "source": [
        "#Creating dataset from test dataframe\n",
        "dftest = pd.read_csv('CharlieNew20.csv')\n",
        "print(dftest)\n",
        "dftest.dropna(inplace=True)\n",
        "dftest['tweet_source_text'] = dftest['tweet_source_text'].apply(clean_text)\n",
        "dftest['tweet_reaction_text'] = dftest['tweet_reaction_text'].apply(clean_text)\n",
        "dftest['len'] = dftest['tweet_reaction_text'].apply(lambda x: len(x))\n",
        "\n",
        "#why are we dropping text with greater than 140 length??\n",
        "#df = df[df['len']<140]\n",
        "#df.reset_index(inplace=True, drop=True)\n",
        "\n",
        "\n"
      ]
    },
    {
      "cell_type": "code",
      "execution_count": null,
      "metadata": {
        "id": "2_1OaCh-z55z",
        "colab": {
          "base_uri": "https://localhost:8080/",
          "height": 835
        },
        "outputId": "4e4cfd45-3dd9-44aa-bfb2-009d3d412eba"
      },
      "outputs": [
        {
          "output_type": "execute_result",
          "data": {
            "text/plain": [
              "         tweet_source_id                                  tweet_source_text  \\\n",
              "0     552784600502915072   Charlie Hebdo became well known for publishin...   \n",
              "1     552784600502915072   Charlie Hebdo became well known for publishin...   \n",
              "2     552784600502915072   Charlie Hebdo became well known for publishin...   \n",
              "3     552784600502915072   Charlie Hebdo became well known for publishin...   \n",
              "4     552784600502915072   Charlie Hebdo became well known for publishin...   \n",
              "...                  ...                                                ...   \n",
              "7214  552805488631758849   At least killed in today attack on satirical ...   \n",
              "7215  552805488631758849   At least killed in today attack on satirical ...   \n",
              "7216  552805488631758849   At least killed in today attack on satirical ...   \n",
              "7217  552805488631758849   At least killed in today attack on satirical ...   \n",
              "7218  552805488631758849   At least killed in today attack on satirical ...   \n",
              "\n",
              "      uverified  ufollowers   ulisted  ustatuses  ufavorites  ageofacc  \\\n",
              "0          True     41591.0    1657.0    15128.0         0.0       4.0   \n",
              "1          True     41591.0    1657.0    15128.0         0.0       4.0   \n",
              "2          True     41591.0    1657.0    15128.0         0.0       4.0   \n",
              "3          True     41591.0    1657.0    15128.0         0.0       4.0   \n",
              "4          True     41591.0    1657.0    15128.0         0.0       4.0   \n",
              "...         ...         ...       ...        ...         ...       ...   \n",
              "7214       True  22667902.0  160810.0    37161.0        13.0       8.0   \n",
              "7215       True  22667902.0  160810.0    37161.0        13.0       8.0   \n",
              "7216       True  22667902.0  160810.0    37161.0        13.0       8.0   \n",
              "7217       True  22667902.0  160810.0    37161.0        13.0       8.0   \n",
              "7218       True  22667902.0  160810.0    37161.0        13.0       8.0   \n",
              "\n",
              "                                    tweet_reaction_text  annotation  len  \n",
              "0      Now dead in shooting there today RT BBCDaniel...           0  136  \n",
              "1      BBCDanielS BBCWorld m guessing this is being ...           0   90  \n",
              "2      BBCDanielS BBCWorld why would you mention tha...           0   94  \n",
              "3                 BBCDanielS BBCWorld perps identified            0   38  \n",
              "4             BBCDanielS BBCWorld who is charlie hebdo            0   42  \n",
              "...                                                 ...         ...  ...  \n",
              "7214   Chusid DaliaChai cnnbrk hehe Jews are good by...           1  130  \n",
              "7215   DaliaChai cnnbrk r not getting my point monst...           1  135  \n",
              "7216   Chusid DaliaChai cnnbrk look you fool we are ...           1  118  \n",
              "7217   hassanbasmer cnnbrk free speech They made fun...           1  124  \n",
              "7218   hassanbasmer Mariodinava cnnbrk Bcoz they kil...           1  126  \n",
              "\n",
              "[7219 rows x 11 columns]"
            ],
            "text/html": [
              "\n",
              "  <div id=\"df-a7e6996c-372f-4c1d-a1ba-eee9ef01bde7\">\n",
              "    <div class=\"colab-df-container\">\n",
              "      <div>\n",
              "<style scoped>\n",
              "    .dataframe tbody tr th:only-of-type {\n",
              "        vertical-align: middle;\n",
              "    }\n",
              "\n",
              "    .dataframe tbody tr th {\n",
              "        vertical-align: top;\n",
              "    }\n",
              "\n",
              "    .dataframe thead th {\n",
              "        text-align: right;\n",
              "    }\n",
              "</style>\n",
              "<table border=\"1\" class=\"dataframe\">\n",
              "  <thead>\n",
              "    <tr style=\"text-align: right;\">\n",
              "      <th></th>\n",
              "      <th>tweet_source_id</th>\n",
              "      <th>tweet_source_text</th>\n",
              "      <th>uverified</th>\n",
              "      <th>ufollowers</th>\n",
              "      <th>ulisted</th>\n",
              "      <th>ustatuses</th>\n",
              "      <th>ufavorites</th>\n",
              "      <th>ageofacc</th>\n",
              "      <th>tweet_reaction_text</th>\n",
              "      <th>annotation</th>\n",
              "      <th>len</th>\n",
              "    </tr>\n",
              "  </thead>\n",
              "  <tbody>\n",
              "    <tr>\n",
              "      <th>0</th>\n",
              "      <td>552784600502915072</td>\n",
              "      <td>Charlie Hebdo became well known for publishin...</td>\n",
              "      <td>True</td>\n",
              "      <td>41591.0</td>\n",
              "      <td>1657.0</td>\n",
              "      <td>15128.0</td>\n",
              "      <td>0.0</td>\n",
              "      <td>4.0</td>\n",
              "      <td>Now dead in shooting there today RT BBCDaniel...</td>\n",
              "      <td>0</td>\n",
              "      <td>136</td>\n",
              "    </tr>\n",
              "    <tr>\n",
              "      <th>1</th>\n",
              "      <td>552784600502915072</td>\n",
              "      <td>Charlie Hebdo became well known for publishin...</td>\n",
              "      <td>True</td>\n",
              "      <td>41591.0</td>\n",
              "      <td>1657.0</td>\n",
              "      <td>15128.0</td>\n",
              "      <td>0.0</td>\n",
              "      <td>4.0</td>\n",
              "      <td>BBCDanielS BBCWorld m guessing this is being ...</td>\n",
              "      <td>0</td>\n",
              "      <td>90</td>\n",
              "    </tr>\n",
              "    <tr>\n",
              "      <th>2</th>\n",
              "      <td>552784600502915072</td>\n",
              "      <td>Charlie Hebdo became well known for publishin...</td>\n",
              "      <td>True</td>\n",
              "      <td>41591.0</td>\n",
              "      <td>1657.0</td>\n",
              "      <td>15128.0</td>\n",
              "      <td>0.0</td>\n",
              "      <td>4.0</td>\n",
              "      <td>BBCDanielS BBCWorld why would you mention tha...</td>\n",
              "      <td>0</td>\n",
              "      <td>94</td>\n",
              "    </tr>\n",
              "    <tr>\n",
              "      <th>3</th>\n",
              "      <td>552784600502915072</td>\n",
              "      <td>Charlie Hebdo became well known for publishin...</td>\n",
              "      <td>True</td>\n",
              "      <td>41591.0</td>\n",
              "      <td>1657.0</td>\n",
              "      <td>15128.0</td>\n",
              "      <td>0.0</td>\n",
              "      <td>4.0</td>\n",
              "      <td>BBCDanielS BBCWorld perps identified</td>\n",
              "      <td>0</td>\n",
              "      <td>38</td>\n",
              "    </tr>\n",
              "    <tr>\n",
              "      <th>4</th>\n",
              "      <td>552784600502915072</td>\n",
              "      <td>Charlie Hebdo became well known for publishin...</td>\n",
              "      <td>True</td>\n",
              "      <td>41591.0</td>\n",
              "      <td>1657.0</td>\n",
              "      <td>15128.0</td>\n",
              "      <td>0.0</td>\n",
              "      <td>4.0</td>\n",
              "      <td>BBCDanielS BBCWorld who is charlie hebdo</td>\n",
              "      <td>0</td>\n",
              "      <td>42</td>\n",
              "    </tr>\n",
              "    <tr>\n",
              "      <th>...</th>\n",
              "      <td>...</td>\n",
              "      <td>...</td>\n",
              "      <td>...</td>\n",
              "      <td>...</td>\n",
              "      <td>...</td>\n",
              "      <td>...</td>\n",
              "      <td>...</td>\n",
              "      <td>...</td>\n",
              "      <td>...</td>\n",
              "      <td>...</td>\n",
              "      <td>...</td>\n",
              "    </tr>\n",
              "    <tr>\n",
              "      <th>7214</th>\n",
              "      <td>552805488631758849</td>\n",
              "      <td>At least killed in today attack on satirical ...</td>\n",
              "      <td>True</td>\n",
              "      <td>22667902.0</td>\n",
              "      <td>160810.0</td>\n",
              "      <td>37161.0</td>\n",
              "      <td>13.0</td>\n",
              "      <td>8.0</td>\n",
              "      <td>Chusid DaliaChai cnnbrk hehe Jews are good by...</td>\n",
              "      <td>1</td>\n",
              "      <td>130</td>\n",
              "    </tr>\n",
              "    <tr>\n",
              "      <th>7215</th>\n",
              "      <td>552805488631758849</td>\n",
              "      <td>At least killed in today attack on satirical ...</td>\n",
              "      <td>True</td>\n",
              "      <td>22667902.0</td>\n",
              "      <td>160810.0</td>\n",
              "      <td>37161.0</td>\n",
              "      <td>13.0</td>\n",
              "      <td>8.0</td>\n",
              "      <td>DaliaChai cnnbrk r not getting my point monst...</td>\n",
              "      <td>1</td>\n",
              "      <td>135</td>\n",
              "    </tr>\n",
              "    <tr>\n",
              "      <th>7216</th>\n",
              "      <td>552805488631758849</td>\n",
              "      <td>At least killed in today attack on satirical ...</td>\n",
              "      <td>True</td>\n",
              "      <td>22667902.0</td>\n",
              "      <td>160810.0</td>\n",
              "      <td>37161.0</td>\n",
              "      <td>13.0</td>\n",
              "      <td>8.0</td>\n",
              "      <td>Chusid DaliaChai cnnbrk look you fool we are ...</td>\n",
              "      <td>1</td>\n",
              "      <td>118</td>\n",
              "    </tr>\n",
              "    <tr>\n",
              "      <th>7217</th>\n",
              "      <td>552805488631758849</td>\n",
              "      <td>At least killed in today attack on satirical ...</td>\n",
              "      <td>True</td>\n",
              "      <td>22667902.0</td>\n",
              "      <td>160810.0</td>\n",
              "      <td>37161.0</td>\n",
              "      <td>13.0</td>\n",
              "      <td>8.0</td>\n",
              "      <td>hassanbasmer cnnbrk free speech They made fun...</td>\n",
              "      <td>1</td>\n",
              "      <td>124</td>\n",
              "    </tr>\n",
              "    <tr>\n",
              "      <th>7218</th>\n",
              "      <td>552805488631758849</td>\n",
              "      <td>At least killed in today attack on satirical ...</td>\n",
              "      <td>True</td>\n",
              "      <td>22667902.0</td>\n",
              "      <td>160810.0</td>\n",
              "      <td>37161.0</td>\n",
              "      <td>13.0</td>\n",
              "      <td>8.0</td>\n",
              "      <td>hassanbasmer Mariodinava cnnbrk Bcoz they kil...</td>\n",
              "      <td>1</td>\n",
              "      <td>126</td>\n",
              "    </tr>\n",
              "  </tbody>\n",
              "</table>\n",
              "<p>7219 rows × 11 columns</p>\n",
              "</div>\n",
              "      <button class=\"colab-df-convert\" onclick=\"convertToInteractive('df-a7e6996c-372f-4c1d-a1ba-eee9ef01bde7')\"\n",
              "              title=\"Convert this dataframe to an interactive table.\"\n",
              "              style=\"display:none;\">\n",
              "        \n",
              "  <svg xmlns=\"http://www.w3.org/2000/svg\" height=\"24px\"viewBox=\"0 0 24 24\"\n",
              "       width=\"24px\">\n",
              "    <path d=\"M0 0h24v24H0V0z\" fill=\"none\"/>\n",
              "    <path d=\"M18.56 5.44l.94 2.06.94-2.06 2.06-.94-2.06-.94-.94-2.06-.94 2.06-2.06.94zm-11 1L8.5 8.5l.94-2.06 2.06-.94-2.06-.94L8.5 2.5l-.94 2.06-2.06.94zm10 10l.94 2.06.94-2.06 2.06-.94-2.06-.94-.94-2.06-.94 2.06-2.06.94z\"/><path d=\"M17.41 7.96l-1.37-1.37c-.4-.4-.92-.59-1.43-.59-.52 0-1.04.2-1.43.59L10.3 9.45l-7.72 7.72c-.78.78-.78 2.05 0 2.83L4 21.41c.39.39.9.59 1.41.59.51 0 1.02-.2 1.41-.59l7.78-7.78 2.81-2.81c.8-.78.8-2.07 0-2.86zM5.41 20L4 18.59l7.72-7.72 1.47 1.35L5.41 20z\"/>\n",
              "  </svg>\n",
              "      </button>\n",
              "      \n",
              "  <style>\n",
              "    .colab-df-container {\n",
              "      display:flex;\n",
              "      flex-wrap:wrap;\n",
              "      gap: 12px;\n",
              "    }\n",
              "\n",
              "    .colab-df-convert {\n",
              "      background-color: #E8F0FE;\n",
              "      border: none;\n",
              "      border-radius: 50%;\n",
              "      cursor: pointer;\n",
              "      display: none;\n",
              "      fill: #1967D2;\n",
              "      height: 32px;\n",
              "      padding: 0 0 0 0;\n",
              "      width: 32px;\n",
              "    }\n",
              "\n",
              "    .colab-df-convert:hover {\n",
              "      background-color: #E2EBFA;\n",
              "      box-shadow: 0px 1px 2px rgba(60, 64, 67, 0.3), 0px 1px 3px 1px rgba(60, 64, 67, 0.15);\n",
              "      fill: #174EA6;\n",
              "    }\n",
              "\n",
              "    [theme=dark] .colab-df-convert {\n",
              "      background-color: #3B4455;\n",
              "      fill: #D2E3FC;\n",
              "    }\n",
              "\n",
              "    [theme=dark] .colab-df-convert:hover {\n",
              "      background-color: #434B5C;\n",
              "      box-shadow: 0px 1px 3px 1px rgba(0, 0, 0, 0.15);\n",
              "      filter: drop-shadow(0px 1px 2px rgba(0, 0, 0, 0.3));\n",
              "      fill: #FFFFFF;\n",
              "    }\n",
              "  </style>\n",
              "\n",
              "      <script>\n",
              "        const buttonEl =\n",
              "          document.querySelector('#df-a7e6996c-372f-4c1d-a1ba-eee9ef01bde7 button.colab-df-convert');\n",
              "        buttonEl.style.display =\n",
              "          google.colab.kernel.accessAllowed ? 'block' : 'none';\n",
              "\n",
              "        async function convertToInteractive(key) {\n",
              "          const element = document.querySelector('#df-a7e6996c-372f-4c1d-a1ba-eee9ef01bde7');\n",
              "          const dataTable =\n",
              "            await google.colab.kernel.invokeFunction('convertToInteractive',\n",
              "                                                     [key], {});\n",
              "          if (!dataTable) return;\n",
              "\n",
              "          const docLinkHtml = 'Like what you see? Visit the ' +\n",
              "            '<a target=\"_blank\" href=https://colab.research.google.com/notebooks/data_table.ipynb>data table notebook</a>'\n",
              "            + ' to learn more about interactive tables.';\n",
              "          element.innerHTML = '';\n",
              "          dataTable['output_type'] = 'display_data';\n",
              "          await google.colab.output.renderOutput(dataTable, element);\n",
              "          const docLink = document.createElement('div');\n",
              "          docLink.innerHTML = docLinkHtml;\n",
              "          element.appendChild(docLink);\n",
              "        }\n",
              "      </script>\n",
              "    </div>\n",
              "  </div>\n",
              "  "
            ]
          },
          "metadata": {},
          "execution_count": 167
        }
      ],
      "source": [
        "#already executed#!pip install transformers\n",
        "dftest"
      ]
    },
    {
      "cell_type": "code",
      "execution_count": null,
      "metadata": {
        "id": "46QQp01Tz0CF"
      },
      "outputs": [],
      "source": [
        "import pandas as pd\n",
        "import numpy as np\n",
        "from tqdm.auto import tqdm\n",
        "import tensorflow as tf\n",
        "from transformers import BertTokenizer"
      ]
    },
    {
      "cell_type": "code",
      "execution_count": null,
      "metadata": {
        "id": "kjKjphbCz_To"
      },
      "outputs": [],
      "source": [
        "tokenizer = BertTokenizer.from_pretrained('bert-base-uncased')"
      ]
    },
    {
      "cell_type": "code",
      "execution_count": null,
      "metadata": {
        "colab": {
          "base_uri": "https://localhost:8080/"
        },
        "id": "kXxB7Zzk0Gdp",
        "outputId": "8df176d5-7513-48e0-ded9-0c014201ad21"
      },
      "outputs": [
        {
          "output_type": "execute_result",
          "data": {
            "text/plain": [
              "((7219, 280), (7219, 280))"
            ]
          },
          "metadata": {},
          "execution_count": 170
        }
      ],
      "source": [
        "X_input_ids_test = np.zeros((len(dftest), 280))\n",
        "X_attn_masks_test = np.zeros((len(dftest), 280))\n",
        "X_input_ids_test.shape, X_attn_masks_test.shape"
      ]
    },
    {
      "cell_type": "code",
      "execution_count": null,
      "metadata": {
        "id": "1jHJvoeY1FVQ"
      },
      "outputs": [],
      "source": [
        "def generate_testing_data(df, ids, masks, tokenizer):\n",
        "    for i, (twet, res) in enumerate(zip(df['tweet_source_text'], df['tweet_reaction_text'])):\n",
        "        #print(res)\n",
        "        tokenized_text = tokenizer(\n",
        "            twet,\n",
        "            res,\n",
        "            max_length=280, \n",
        "            truncation=True, \n",
        "            padding='max_length', \n",
        "            add_special_tokens=True,\n",
        "            return_tensors='tf'\n",
        "        )\n",
        "        #print(i)\n",
        "        #print(res)\n",
        "        ids[i, :] = tokenized_text.input_ids\n",
        "        masks[i, :] = tokenized_text.attention_mask\n",
        "    return ids, masks"
      ]
    },
    {
      "cell_type": "code",
      "execution_count": null,
      "metadata": {
        "colab": {
          "base_uri": "https://localhost:8080/"
        },
        "id": "xfgFiEXd1LGi",
        "outputId": "0f46a270-fd13-49b9-b5f0-172967ab9cdf"
      },
      "outputs": [
        {
          "output_type": "stream",
          "name": "stderr",
          "text": [
            "Be aware, overflowing tokens are not returned for the setting you have chosen, i.e. sequence pairs with the 'longest_first' truncation strategy. So the returned list will always be empty even if some tokens have been removed.\n",
            "Be aware, overflowing tokens are not returned for the setting you have chosen, i.e. sequence pairs with the 'longest_first' truncation strategy. So the returned list will always be empty even if some tokens have been removed.\n",
            "Be aware, overflowing tokens are not returned for the setting you have chosen, i.e. sequence pairs with the 'longest_first' truncation strategy. So the returned list will always be empty even if some tokens have been removed.\n",
            "Be aware, overflowing tokens are not returned for the setting you have chosen, i.e. sequence pairs with the 'longest_first' truncation strategy. So the returned list will always be empty even if some tokens have been removed.\n",
            "Be aware, overflowing tokens are not returned for the setting you have chosen, i.e. sequence pairs with the 'longest_first' truncation strategy. So the returned list will always be empty even if some tokens have been removed.\n",
            "Be aware, overflowing tokens are not returned for the setting you have chosen, i.e. sequence pairs with the 'longest_first' truncation strategy. So the returned list will always be empty even if some tokens have been removed.\n",
            "Be aware, overflowing tokens are not returned for the setting you have chosen, i.e. sequence pairs with the 'longest_first' truncation strategy. So the returned list will always be empty even if some tokens have been removed.\n"
          ]
        }
      ],
      "source": [
        "X_input_ids_test, X_attn_masks_test = generate_testing_data(dftest, X_input_ids_test, X_attn_masks_test, tokenizer)"
      ]
    },
    {
      "cell_type": "code",
      "execution_count": null,
      "metadata": {
        "colab": {
          "base_uri": "https://localhost:8080/"
        },
        "id": "U0kJqv4I1iEF",
        "outputId": "8ce38c25-4825-483e-a3e8-21cd59dd81c2"
      },
      "outputs": [
        {
          "output_type": "execute_result",
          "data": {
            "text/plain": [
              "array([1., 1., 1., 1., 1., 1., 1., 1., 1., 1., 1., 1., 1., 1., 1., 1., 1.,\n",
              "       1., 1., 1., 1., 1., 1., 1., 1., 1., 1., 1., 1., 1., 1., 1., 1., 1.,\n",
              "       1., 1., 1., 1., 1., 1., 1., 1., 1., 1., 1., 1., 1., 1., 1., 1., 1.,\n",
              "       0., 0., 0., 0., 0., 0., 0., 0., 0., 0., 0., 0., 0., 0., 0., 0., 0.,\n",
              "       0., 0., 0., 0., 0., 0., 0., 0., 0., 0., 0., 0., 0., 0., 0., 0., 0.,\n",
              "       0., 0., 0., 0., 0., 0., 0., 0., 0., 0., 0., 0., 0., 0., 0., 0., 0.,\n",
              "       0., 0., 0., 0., 0., 0., 0., 0., 0., 0., 0., 0., 0., 0., 0., 0., 0.,\n",
              "       0., 0., 0., 0., 0., 0., 0., 0., 0., 0., 0., 0., 0., 0., 0., 0., 0.,\n",
              "       0., 0., 0., 0., 0., 0., 0., 0., 0., 0., 0., 0., 0., 0., 0., 0., 0.,\n",
              "       0., 0., 0., 0., 0., 0., 0., 0., 0., 0., 0., 0., 0., 0., 0., 0., 0.,\n",
              "       0., 0., 0., 0., 0., 0., 0., 0., 0., 0., 0., 0., 0., 0., 0., 0., 0.,\n",
              "       0., 0., 0., 0., 0., 0., 0., 0., 0., 0., 0., 0., 0., 0., 0., 0., 0.,\n",
              "       0., 0., 0., 0., 0., 0., 0., 0., 0., 0., 0., 0., 0., 0., 0., 0., 0.,\n",
              "       0., 0., 0., 0., 0., 0., 0., 0., 0., 0., 0., 0., 0., 0., 0., 0., 0.,\n",
              "       0., 0., 0., 0., 0., 0., 0., 0., 0., 0., 0., 0., 0., 0., 0., 0., 0.,\n",
              "       0., 0., 0., 0., 0., 0., 0., 0., 0., 0., 0., 0., 0., 0., 0., 0., 0.,\n",
              "       0., 0., 0., 0., 0., 0., 0., 0.])"
            ]
          },
          "metadata": {},
          "execution_count": 173
        }
      ],
      "source": [
        "#CSV's row number 2 is at the Oth index of numpyarray\n",
        "X_input_ids_test[0]\n",
        "X_attn_masks_test[0]"
      ]
    },
    {
      "cell_type": "code",
      "execution_count": null,
      "metadata": {
        "colab": {
          "base_uri": "https://localhost:8080/"
        },
        "id": "04QwZWDp2POB",
        "outputId": "3585a0ce-60f7-4c0a-cccc-d13fe42ec78d"
      },
      "outputs": [
        {
          "output_type": "execute_result",
          "data": {
            "text/plain": [
              "numpy.ndarray"
            ]
          },
          "metadata": {},
          "execution_count": 174
        }
      ],
      "source": [
        "type(X_input_ids_test)\n",
        "type(X_attn_masks_test)"
      ]
    },
    {
      "cell_type": "code",
      "execution_count": null,
      "metadata": {
        "id": "oLlNBl9N4l9_"
      },
      "outputs": [],
      "source": [
        "y_classes = sentiment_model1.predict([X_input_ids_test,X_attn_masks_test])"
      ]
    },
    {
      "cell_type": "code",
      "execution_count": null,
      "metadata": {
        "colab": {
          "base_uri": "https://localhost:8080/"
        },
        "id": "cT2XJjzM5eh9",
        "outputId": "6d8561c4-d367-4f22-e3dc-65a855f1e846"
      },
      "outputs": [
        {
          "output_type": "execute_result",
          "data": {
            "text/plain": [
              "array([0, 0, 0, ..., 1, 1, 1])"
            ]
          },
          "metadata": {},
          "execution_count": 176
        }
      ],
      "source": [
        "y_pred_model = y_classes.argmax(axis=-1)\n",
        "y_pred_model"
      ]
    },
    {
      "cell_type": "code",
      "execution_count": null,
      "metadata": {
        "id": "JlSh98Ag6IQo"
      },
      "outputs": [],
      "source": [
        "np.savetxt(\"charlie_pred_label_new20.csv\", y_pred_model,header=\"output_predicted\", delimiter=\",\")"
      ]
    },
    {
      "cell_type": "code",
      "execution_count": null,
      "metadata": {
        "id": "ayc6rI5R7I9U",
        "colab": {
          "base_uri": "https://localhost:8080/"
        },
        "outputId": "f76f6b31-c151-4619-986e-02d3966ec195"
      },
      "outputs": [
        {
          "output_type": "stream",
          "name": "stdout",
          "text": [
            "         tweet_source_id                                  tweet_source_text  \\\n",
            "0     552784600502915072  b'Charlie Hebdo became well known for publishi...   \n",
            "1     552784600502915072  b'Charlie Hebdo became well known for publishi...   \n",
            "2     552784600502915072  b'Charlie Hebdo became well known for publishi...   \n",
            "3     552784600502915072  b'Charlie Hebdo became well known for publishi...   \n",
            "4     552784600502915072  b'Charlie Hebdo became well known for publishi...   \n",
            "...                  ...                                                ...   \n",
            "7214  552805488631758849  b\"At least 12 killed in today's attack on sati...   \n",
            "7215  552805488631758849  b\"At least 12 killed in today's attack on sati...   \n",
            "7216  552805488631758849  b\"At least 12 killed in today's attack on sati...   \n",
            "7217  552805488631758849  b\"At least 12 killed in today's attack on sati...   \n",
            "7218  552805488631758849  b\"At least 12 killed in today's attack on sati...   \n",
            "\n",
            "      uverified  ufollowers   ulisted  ustatuses  ufavorites  ageofacc  \\\n",
            "0          True     41591.0    1657.0    15128.0         0.0       4.0   \n",
            "1          True     41591.0    1657.0    15128.0         0.0       4.0   \n",
            "2          True     41591.0    1657.0    15128.0         0.0       4.0   \n",
            "3          True     41591.0    1657.0    15128.0         0.0       4.0   \n",
            "4          True     41591.0    1657.0    15128.0         0.0       4.0   \n",
            "...         ...         ...       ...        ...         ...       ...   \n",
            "7214       True  22667902.0  160810.0    37161.0        13.0       8.0   \n",
            "7215       True  22667902.0  160810.0    37161.0        13.0       8.0   \n",
            "7216       True  22667902.0  160810.0    37161.0        13.0       8.0   \n",
            "7217       True  22667902.0  160810.0    37161.0        13.0       8.0   \n",
            "7218       True  22667902.0  160810.0    37161.0        13.0       8.0   \n",
            "\n",
            "                                    tweet_reaction_text  annotation  \n",
            "0     b'Now 10 dead in a shooting there today RT \"@B...           0  \n",
            "1     b\"@BBCDanielS @BBCWorld I'm guessing this is b...           0  \n",
            "2     b'@BBCDanielS @BBCWorld why would you mention ...           0  \n",
            "3            b'@BBCDanielS @BBCWorld perps identified?'           0  \n",
            "4        b'@BBCDanielS @BBCWorld who is charlie hebdo?'           0  \n",
            "...                                                 ...         ...  \n",
            "7214  b'@Chusid2015 @DaliaChai @cnnbrk hehe u Jews a...           1  \n",
            "7215  b'@DaliaChai @cnnbrk u r not getting my point ...           1  \n",
            "7216  b'@Chusid2015 @DaliaChai @cnnbrk look you fool...           1  \n",
            "7217  b'@hassanbasmer @cnnbrk free speech. They made...           1  \n",
            "7218  b\"@hassanbasmer @Mariodinava @cnnbrk Bcoz they...           1  \n",
            "\n",
            "[7219 rows x 10 columns]\n",
            "      # output_predicted\n",
            "0                    0.0\n",
            "1                    0.0\n",
            "2                    0.0\n",
            "3                    0.0\n",
            "4                    0.0\n",
            "...                  ...\n",
            "7214                 1.0\n",
            "7215                 1.0\n",
            "7216                 1.0\n",
            "7217                 1.0\n",
            "7218                 1.0\n",
            "\n",
            "[7219 rows x 1 columns]\n",
            "Accuracy: \n",
            "0.9002631943482476\n",
            "precision: \n",
            "0.7345767575322812\n",
            "Recall:  \n",
            "0.745269286754003\n",
            "F1score: \n",
            "0.7398843930635839\n",
            "Confusion Matrix: \n",
            "[[5475  370]\n",
            " [ 350 1024]]\n"
          ]
        }
      ],
      "source": [
        "##Appended this charlie_pred_label.csv  as the output_predicted column in the CharlieTest.csv manually\n",
        "#EXECUTED THE FOLLOWING CODE\n",
        "import csv\n",
        "import pandas as pd\n",
        "import numpy as np\n",
        "from sklearn.metrics import f1_score\n",
        "from sklearn.metrics import accuracy_score\n",
        "from sklearn.metrics import recall_score\n",
        "from sklearn.metrics import precision_score\n",
        "from sklearn.metrics import confusion_matrix\n",
        "\n",
        "dfmetrics = pd.read_csv('CharlieNew20.csv')\n",
        "print(dfmetrics)\n",
        "yactual = dfmetrics['annotation']\n",
        "yactual = yactual.to_numpy()\n",
        "dfmetricspred = pd.read_csv('charlie_pred_label_new20.csv')\n",
        "print(dfmetricspred)\n",
        "PredLabel = dfmetricspred['# output_predicted']\n",
        "PredLabel = PredLabel.to_numpy()\n",
        "\n",
        "print(\"Accuracy: \" )\n",
        "print(accuracy_score(yactual,PredLabel))\n",
        "\n",
        "print(\"precision: \")\n",
        "print(precision_score(yactual,PredLabel))\n",
        "\n",
        "print(\"Recall:  \")\n",
        "print( recall_score(yactual,PredLabel))\n",
        "\n",
        "print(\"F1score: \")\n",
        "print(f1_score(yactual,PredLabel))\n",
        "\n",
        "print(\"Confusion Matrix: \")\n",
        "print(confusion_matrix(yactual,PredLabel))"
      ]
    },
    {
      "cell_type": "code",
      "source": [
        "Model2Train50 = pd.concat([dftest, dfmetricspred], axis=1)"
      ],
      "metadata": {
        "id": "DL_Poc9_bO5Z"
      },
      "execution_count": null,
      "outputs": []
    },
    {
      "cell_type": "code",
      "source": [
        "Model2Train50.to_csv('CharlieModel1PredictedUnseen20.csv', index=False)"
      ],
      "metadata": {
        "id": "-nuEnHsOXFMe"
      },
      "execution_count": null,
      "outputs": []
    },
    {
      "cell_type": "code",
      "source": [
        "Model2Train50"
      ],
      "metadata": {
        "colab": {
          "base_uri": "https://localhost:8080/",
          "height": 852
        },
        "id": "yCh-wVVHW1L6",
        "outputId": "2ba558b0-b2a7-49a1-f00e-476e77360934"
      },
      "execution_count": null,
      "outputs": [
        {
          "output_type": "execute_result",
          "data": {
            "text/plain": [
              "         tweet_source_id                                  tweet_source_text  \\\n",
              "0     552784600502915072   Charlie Hebdo became well known for publishin...   \n",
              "1     552784600502915072   Charlie Hebdo became well known for publishin...   \n",
              "2     552784600502915072   Charlie Hebdo became well known for publishin...   \n",
              "3     552784600502915072   Charlie Hebdo became well known for publishin...   \n",
              "4     552784600502915072   Charlie Hebdo became well known for publishin...   \n",
              "...                  ...                                                ...   \n",
              "7214  552805488631758849   At least killed in today attack on satirical ...   \n",
              "7215  552805488631758849   At least killed in today attack on satirical ...   \n",
              "7216  552805488631758849   At least killed in today attack on satirical ...   \n",
              "7217  552805488631758849   At least killed in today attack on satirical ...   \n",
              "7218  552805488631758849   At least killed in today attack on satirical ...   \n",
              "\n",
              "      uverified  ufollowers   ulisted  ustatuses  ufavorites  ageofacc  \\\n",
              "0          True     41591.0    1657.0    15128.0         0.0       4.0   \n",
              "1          True     41591.0    1657.0    15128.0         0.0       4.0   \n",
              "2          True     41591.0    1657.0    15128.0         0.0       4.0   \n",
              "3          True     41591.0    1657.0    15128.0         0.0       4.0   \n",
              "4          True     41591.0    1657.0    15128.0         0.0       4.0   \n",
              "...         ...         ...       ...        ...         ...       ...   \n",
              "7214       True  22667902.0  160810.0    37161.0        13.0       8.0   \n",
              "7215       True  22667902.0  160810.0    37161.0        13.0       8.0   \n",
              "7216       True  22667902.0  160810.0    37161.0        13.0       8.0   \n",
              "7217       True  22667902.0  160810.0    37161.0        13.0       8.0   \n",
              "7218       True  22667902.0  160810.0    37161.0        13.0       8.0   \n",
              "\n",
              "                                    tweet_reaction_text  annotation  len  \\\n",
              "0      Now dead in shooting there today RT BBCDaniel...           0  136   \n",
              "1      BBCDanielS BBCWorld m guessing this is being ...           0   90   \n",
              "2      BBCDanielS BBCWorld why would you mention tha...           0   94   \n",
              "3                 BBCDanielS BBCWorld perps identified            0   38   \n",
              "4             BBCDanielS BBCWorld who is charlie hebdo            0   42   \n",
              "...                                                 ...         ...  ...   \n",
              "7214   Chusid DaliaChai cnnbrk hehe Jews are good by...           1  130   \n",
              "7215   DaliaChai cnnbrk r not getting my point monst...           1  135   \n",
              "7216   Chusid DaliaChai cnnbrk look you fool we are ...           1  118   \n",
              "7217   hassanbasmer cnnbrk free speech They made fun...           1  124   \n",
              "7218   hassanbasmer Mariodinava cnnbrk Bcoz they kil...           1  126   \n",
              "\n",
              "      # output_predicted  \n",
              "0                    0.0  \n",
              "1                    0.0  \n",
              "2                    0.0  \n",
              "3                    0.0  \n",
              "4                    0.0  \n",
              "...                  ...  \n",
              "7214                 1.0  \n",
              "7215                 1.0  \n",
              "7216                 1.0  \n",
              "7217                 1.0  \n",
              "7218                 1.0  \n",
              "\n",
              "[7219 rows x 12 columns]"
            ],
            "text/html": [
              "\n",
              "  <div id=\"df-24eac96c-2566-4530-9b52-f12e85fada28\">\n",
              "    <div class=\"colab-df-container\">\n",
              "      <div>\n",
              "<style scoped>\n",
              "    .dataframe tbody tr th:only-of-type {\n",
              "        vertical-align: middle;\n",
              "    }\n",
              "\n",
              "    .dataframe tbody tr th {\n",
              "        vertical-align: top;\n",
              "    }\n",
              "\n",
              "    .dataframe thead th {\n",
              "        text-align: right;\n",
              "    }\n",
              "</style>\n",
              "<table border=\"1\" class=\"dataframe\">\n",
              "  <thead>\n",
              "    <tr style=\"text-align: right;\">\n",
              "      <th></th>\n",
              "      <th>tweet_source_id</th>\n",
              "      <th>tweet_source_text</th>\n",
              "      <th>uverified</th>\n",
              "      <th>ufollowers</th>\n",
              "      <th>ulisted</th>\n",
              "      <th>ustatuses</th>\n",
              "      <th>ufavorites</th>\n",
              "      <th>ageofacc</th>\n",
              "      <th>tweet_reaction_text</th>\n",
              "      <th>annotation</th>\n",
              "      <th>len</th>\n",
              "      <th># output_predicted</th>\n",
              "    </tr>\n",
              "  </thead>\n",
              "  <tbody>\n",
              "    <tr>\n",
              "      <th>0</th>\n",
              "      <td>552784600502915072</td>\n",
              "      <td>Charlie Hebdo became well known for publishin...</td>\n",
              "      <td>True</td>\n",
              "      <td>41591.0</td>\n",
              "      <td>1657.0</td>\n",
              "      <td>15128.0</td>\n",
              "      <td>0.0</td>\n",
              "      <td>4.0</td>\n",
              "      <td>Now dead in shooting there today RT BBCDaniel...</td>\n",
              "      <td>0</td>\n",
              "      <td>136</td>\n",
              "      <td>0.0</td>\n",
              "    </tr>\n",
              "    <tr>\n",
              "      <th>1</th>\n",
              "      <td>552784600502915072</td>\n",
              "      <td>Charlie Hebdo became well known for publishin...</td>\n",
              "      <td>True</td>\n",
              "      <td>41591.0</td>\n",
              "      <td>1657.0</td>\n",
              "      <td>15128.0</td>\n",
              "      <td>0.0</td>\n",
              "      <td>4.0</td>\n",
              "      <td>BBCDanielS BBCWorld m guessing this is being ...</td>\n",
              "      <td>0</td>\n",
              "      <td>90</td>\n",
              "      <td>0.0</td>\n",
              "    </tr>\n",
              "    <tr>\n",
              "      <th>2</th>\n",
              "      <td>552784600502915072</td>\n",
              "      <td>Charlie Hebdo became well known for publishin...</td>\n",
              "      <td>True</td>\n",
              "      <td>41591.0</td>\n",
              "      <td>1657.0</td>\n",
              "      <td>15128.0</td>\n",
              "      <td>0.0</td>\n",
              "      <td>4.0</td>\n",
              "      <td>BBCDanielS BBCWorld why would you mention tha...</td>\n",
              "      <td>0</td>\n",
              "      <td>94</td>\n",
              "      <td>0.0</td>\n",
              "    </tr>\n",
              "    <tr>\n",
              "      <th>3</th>\n",
              "      <td>552784600502915072</td>\n",
              "      <td>Charlie Hebdo became well known for publishin...</td>\n",
              "      <td>True</td>\n",
              "      <td>41591.0</td>\n",
              "      <td>1657.0</td>\n",
              "      <td>15128.0</td>\n",
              "      <td>0.0</td>\n",
              "      <td>4.0</td>\n",
              "      <td>BBCDanielS BBCWorld perps identified</td>\n",
              "      <td>0</td>\n",
              "      <td>38</td>\n",
              "      <td>0.0</td>\n",
              "    </tr>\n",
              "    <tr>\n",
              "      <th>4</th>\n",
              "      <td>552784600502915072</td>\n",
              "      <td>Charlie Hebdo became well known for publishin...</td>\n",
              "      <td>True</td>\n",
              "      <td>41591.0</td>\n",
              "      <td>1657.0</td>\n",
              "      <td>15128.0</td>\n",
              "      <td>0.0</td>\n",
              "      <td>4.0</td>\n",
              "      <td>BBCDanielS BBCWorld who is charlie hebdo</td>\n",
              "      <td>0</td>\n",
              "      <td>42</td>\n",
              "      <td>0.0</td>\n",
              "    </tr>\n",
              "    <tr>\n",
              "      <th>...</th>\n",
              "      <td>...</td>\n",
              "      <td>...</td>\n",
              "      <td>...</td>\n",
              "      <td>...</td>\n",
              "      <td>...</td>\n",
              "      <td>...</td>\n",
              "      <td>...</td>\n",
              "      <td>...</td>\n",
              "      <td>...</td>\n",
              "      <td>...</td>\n",
              "      <td>...</td>\n",
              "      <td>...</td>\n",
              "    </tr>\n",
              "    <tr>\n",
              "      <th>7214</th>\n",
              "      <td>552805488631758849</td>\n",
              "      <td>At least killed in today attack on satirical ...</td>\n",
              "      <td>True</td>\n",
              "      <td>22667902.0</td>\n",
              "      <td>160810.0</td>\n",
              "      <td>37161.0</td>\n",
              "      <td>13.0</td>\n",
              "      <td>8.0</td>\n",
              "      <td>Chusid DaliaChai cnnbrk hehe Jews are good by...</td>\n",
              "      <td>1</td>\n",
              "      <td>130</td>\n",
              "      <td>1.0</td>\n",
              "    </tr>\n",
              "    <tr>\n",
              "      <th>7215</th>\n",
              "      <td>552805488631758849</td>\n",
              "      <td>At least killed in today attack on satirical ...</td>\n",
              "      <td>True</td>\n",
              "      <td>22667902.0</td>\n",
              "      <td>160810.0</td>\n",
              "      <td>37161.0</td>\n",
              "      <td>13.0</td>\n",
              "      <td>8.0</td>\n",
              "      <td>DaliaChai cnnbrk r not getting my point monst...</td>\n",
              "      <td>1</td>\n",
              "      <td>135</td>\n",
              "      <td>1.0</td>\n",
              "    </tr>\n",
              "    <tr>\n",
              "      <th>7216</th>\n",
              "      <td>552805488631758849</td>\n",
              "      <td>At least killed in today attack on satirical ...</td>\n",
              "      <td>True</td>\n",
              "      <td>22667902.0</td>\n",
              "      <td>160810.0</td>\n",
              "      <td>37161.0</td>\n",
              "      <td>13.0</td>\n",
              "      <td>8.0</td>\n",
              "      <td>Chusid DaliaChai cnnbrk look you fool we are ...</td>\n",
              "      <td>1</td>\n",
              "      <td>118</td>\n",
              "      <td>1.0</td>\n",
              "    </tr>\n",
              "    <tr>\n",
              "      <th>7217</th>\n",
              "      <td>552805488631758849</td>\n",
              "      <td>At least killed in today attack on satirical ...</td>\n",
              "      <td>True</td>\n",
              "      <td>22667902.0</td>\n",
              "      <td>160810.0</td>\n",
              "      <td>37161.0</td>\n",
              "      <td>13.0</td>\n",
              "      <td>8.0</td>\n",
              "      <td>hassanbasmer cnnbrk free speech They made fun...</td>\n",
              "      <td>1</td>\n",
              "      <td>124</td>\n",
              "      <td>1.0</td>\n",
              "    </tr>\n",
              "    <tr>\n",
              "      <th>7218</th>\n",
              "      <td>552805488631758849</td>\n",
              "      <td>At least killed in today attack on satirical ...</td>\n",
              "      <td>True</td>\n",
              "      <td>22667902.0</td>\n",
              "      <td>160810.0</td>\n",
              "      <td>37161.0</td>\n",
              "      <td>13.0</td>\n",
              "      <td>8.0</td>\n",
              "      <td>hassanbasmer Mariodinava cnnbrk Bcoz they kil...</td>\n",
              "      <td>1</td>\n",
              "      <td>126</td>\n",
              "      <td>1.0</td>\n",
              "    </tr>\n",
              "  </tbody>\n",
              "</table>\n",
              "<p>7219 rows × 12 columns</p>\n",
              "</div>\n",
              "      <button class=\"colab-df-convert\" onclick=\"convertToInteractive('df-24eac96c-2566-4530-9b52-f12e85fada28')\"\n",
              "              title=\"Convert this dataframe to an interactive table.\"\n",
              "              style=\"display:none;\">\n",
              "        \n",
              "  <svg xmlns=\"http://www.w3.org/2000/svg\" height=\"24px\"viewBox=\"0 0 24 24\"\n",
              "       width=\"24px\">\n",
              "    <path d=\"M0 0h24v24H0V0z\" fill=\"none\"/>\n",
              "    <path d=\"M18.56 5.44l.94 2.06.94-2.06 2.06-.94-2.06-.94-.94-2.06-.94 2.06-2.06.94zm-11 1L8.5 8.5l.94-2.06 2.06-.94-2.06-.94L8.5 2.5l-.94 2.06-2.06.94zm10 10l.94 2.06.94-2.06 2.06-.94-2.06-.94-.94-2.06-.94 2.06-2.06.94z\"/><path d=\"M17.41 7.96l-1.37-1.37c-.4-.4-.92-.59-1.43-.59-.52 0-1.04.2-1.43.59L10.3 9.45l-7.72 7.72c-.78.78-.78 2.05 0 2.83L4 21.41c.39.39.9.59 1.41.59.51 0 1.02-.2 1.41-.59l7.78-7.78 2.81-2.81c.8-.78.8-2.07 0-2.86zM5.41 20L4 18.59l7.72-7.72 1.47 1.35L5.41 20z\"/>\n",
              "  </svg>\n",
              "      </button>\n",
              "      \n",
              "  <style>\n",
              "    .colab-df-container {\n",
              "      display:flex;\n",
              "      flex-wrap:wrap;\n",
              "      gap: 12px;\n",
              "    }\n",
              "\n",
              "    .colab-df-convert {\n",
              "      background-color: #E8F0FE;\n",
              "      border: none;\n",
              "      border-radius: 50%;\n",
              "      cursor: pointer;\n",
              "      display: none;\n",
              "      fill: #1967D2;\n",
              "      height: 32px;\n",
              "      padding: 0 0 0 0;\n",
              "      width: 32px;\n",
              "    }\n",
              "\n",
              "    .colab-df-convert:hover {\n",
              "      background-color: #E2EBFA;\n",
              "      box-shadow: 0px 1px 2px rgba(60, 64, 67, 0.3), 0px 1px 3px 1px rgba(60, 64, 67, 0.15);\n",
              "      fill: #174EA6;\n",
              "    }\n",
              "\n",
              "    [theme=dark] .colab-df-convert {\n",
              "      background-color: #3B4455;\n",
              "      fill: #D2E3FC;\n",
              "    }\n",
              "\n",
              "    [theme=dark] .colab-df-convert:hover {\n",
              "      background-color: #434B5C;\n",
              "      box-shadow: 0px 1px 3px 1px rgba(0, 0, 0, 0.15);\n",
              "      filter: drop-shadow(0px 1px 2px rgba(0, 0, 0, 0.3));\n",
              "      fill: #FFFFFF;\n",
              "    }\n",
              "  </style>\n",
              "\n",
              "      <script>\n",
              "        const buttonEl =\n",
              "          document.querySelector('#df-24eac96c-2566-4530-9b52-f12e85fada28 button.colab-df-convert');\n",
              "        buttonEl.style.display =\n",
              "          google.colab.kernel.accessAllowed ? 'block' : 'none';\n",
              "\n",
              "        async function convertToInteractive(key) {\n",
              "          const element = document.querySelector('#df-24eac96c-2566-4530-9b52-f12e85fada28');\n",
              "          const dataTable =\n",
              "            await google.colab.kernel.invokeFunction('convertToInteractive',\n",
              "                                                     [key], {});\n",
              "          if (!dataTable) return;\n",
              "\n",
              "          const docLinkHtml = 'Like what you see? Visit the ' +\n",
              "            '<a target=\"_blank\" href=https://colab.research.google.com/notebooks/data_table.ipynb>data table notebook</a>'\n",
              "            + ' to learn more about interactive tables.';\n",
              "          element.innerHTML = '';\n",
              "          dataTable['output_type'] = 'display_data';\n",
              "          await google.colab.output.renderOutput(dataTable, element);\n",
              "          const docLink = document.createElement('div');\n",
              "          docLink.innerHTML = docLinkHtml;\n",
              "          element.appendChild(docLink);\n",
              "        }\n",
              "      </script>\n",
              "    </div>\n",
              "  </div>\n",
              "  "
            ]
          },
          "metadata": {},
          "execution_count": 181
        }
      ]
    },
    {
      "cell_type": "code",
      "source": [
        "Model2Train50['annotation'] = Model2Train50['annotation'].astype('float')\n",
        "#annotation = Model2Train50.groupby(['tweet_source_id'])['annotation'].mean()"
      ],
      "metadata": {
        "id": "SYAnAL0_IjQ1"
      },
      "execution_count": null,
      "outputs": []
    },
    {
      "cell_type": "code",
      "source": [
        "Model2Train50"
      ],
      "metadata": {
        "colab": {
          "base_uri": "https://localhost:8080/",
          "height": 852
        },
        "id": "qRieKTCENmiT",
        "outputId": "0448d569-3ffa-4fac-a222-e5312548da4b"
      },
      "execution_count": null,
      "outputs": [
        {
          "output_type": "execute_result",
          "data": {
            "text/plain": [
              "          tweet_source_id                                  tweet_source_text  \\\n",
              "0      553111157738057728   So now let talk seriously about CharlieHebdo ...   \n",
              "1      553111157738057728   So now let talk seriously about CharlieHebdo ...   \n",
              "2      553111157738057728   So now let talk seriously about CharlieHebdo ...   \n",
              "3      553111157738057728   So now let talk seriously about CharlieHebdo ...   \n",
              "4      553111157738057728   So now let talk seriously about CharlieHebdo ...   \n",
              "...                   ...                                                ...   \n",
              "18040  553591259672379392   Update PA gunman holding hostages in Paris gr...   \n",
              "18041  553591259672379392   Update PA gunman holding hostages in Paris gr...   \n",
              "18042  553591259672379392   Update PA gunman holding hostages in Paris gr...   \n",
              "18043  553591259672379392   Update PA gunman holding hostages in Paris gr...   \n",
              "18044  553591259672379392   Update PA gunman holding hostages in Paris gr...   \n",
              "\n",
              "       uverified  ufollowers  ulisted  ustatuses  ufavorites  ageofacc  \\\n",
              "0          False     15954.0    238.0     6556.0       128.0       2.0   \n",
              "1          False     15954.0    238.0     6556.0       128.0       2.0   \n",
              "2          False     15954.0    238.0     6556.0       128.0       2.0   \n",
              "3          False     15954.0    238.0     6556.0       128.0       2.0   \n",
              "4          False     15954.0    238.0     6556.0       128.0       2.0   \n",
              "...          ...         ...      ...        ...         ...       ...   \n",
              "18040       True   1380592.0  14597.0    27260.0         0.0       6.0   \n",
              "18041       True   1380592.0  14597.0    27260.0         0.0       6.0   \n",
              "18042       True   1380592.0  14597.0    27260.0         0.0       6.0   \n",
              "18043       True   1380592.0  14597.0    27260.0         0.0       6.0   \n",
              "18044       True   1380592.0  14597.0    27260.0         0.0       6.0   \n",
              "\n",
              "                                     tweet_reaction_text  annotation  len  \\\n",
              "0       janetravers It came moments after perfectly r...         0.0  107   \n",
              "1       janetravers have no idea why you felt the nee...         0.0  115   \n",
              "2       islandlayer xce xbc xcf xce xbf xcf xce xbf x...         0.0  481   \n",
              "3       islandlayer xcf c xcf xce xb xce xb xce xad x...         0.0  457   \n",
              "4       SikanasGiorgos xce xcf xcf xcf xce xb xce xbd...         0.0  646   \n",
              "...                                                  ...         ...  ...   \n",
              "18040   SkyNewsBreak good shoot them all Paris will m...         1.0   59   \n",
              "18041   SkyNewsBreak SteeryBlade GET IN Fucking lunat...         1.0   55   \n",
              "18042   xe x SkyNewsBreak Update PA gunman holding ho...         1.0  101   \n",
              "18043   SkyNewsBreak hope it was VERY painful Rot in ...         1.0   51   \n",
              "18044         maisy SkyNewsBreak them all there was two          1.0   43   \n",
              "\n",
              "       # output_predicted  \n",
              "0                     0.0  \n",
              "1                     0.0  \n",
              "2                     0.0  \n",
              "3                     0.0  \n",
              "4                     0.0  \n",
              "...                   ...  \n",
              "18040                 1.0  \n",
              "18041                 1.0  \n",
              "18042                 1.0  \n",
              "18043                 1.0  \n",
              "18044                 1.0  \n",
              "\n",
              "[18045 rows x 12 columns]"
            ],
            "text/html": [
              "\n",
              "  <div id=\"df-c3d7b425-f438-4fff-a559-ad4dc936e1b1\">\n",
              "    <div class=\"colab-df-container\">\n",
              "      <div>\n",
              "<style scoped>\n",
              "    .dataframe tbody tr th:only-of-type {\n",
              "        vertical-align: middle;\n",
              "    }\n",
              "\n",
              "    .dataframe tbody tr th {\n",
              "        vertical-align: top;\n",
              "    }\n",
              "\n",
              "    .dataframe thead th {\n",
              "        text-align: right;\n",
              "    }\n",
              "</style>\n",
              "<table border=\"1\" class=\"dataframe\">\n",
              "  <thead>\n",
              "    <tr style=\"text-align: right;\">\n",
              "      <th></th>\n",
              "      <th>tweet_source_id</th>\n",
              "      <th>tweet_source_text</th>\n",
              "      <th>uverified</th>\n",
              "      <th>ufollowers</th>\n",
              "      <th>ulisted</th>\n",
              "      <th>ustatuses</th>\n",
              "      <th>ufavorites</th>\n",
              "      <th>ageofacc</th>\n",
              "      <th>tweet_reaction_text</th>\n",
              "      <th>annotation</th>\n",
              "      <th>len</th>\n",
              "      <th># output_predicted</th>\n",
              "    </tr>\n",
              "  </thead>\n",
              "  <tbody>\n",
              "    <tr>\n",
              "      <th>0</th>\n",
              "      <td>553111157738057728</td>\n",
              "      <td>So now let talk seriously about CharlieHebdo ...</td>\n",
              "      <td>False</td>\n",
              "      <td>15954.0</td>\n",
              "      <td>238.0</td>\n",
              "      <td>6556.0</td>\n",
              "      <td>128.0</td>\n",
              "      <td>2.0</td>\n",
              "      <td>janetravers It came moments after perfectly r...</td>\n",
              "      <td>0.0</td>\n",
              "      <td>107</td>\n",
              "      <td>0.0</td>\n",
              "    </tr>\n",
              "    <tr>\n",
              "      <th>1</th>\n",
              "      <td>553111157738057728</td>\n",
              "      <td>So now let talk seriously about CharlieHebdo ...</td>\n",
              "      <td>False</td>\n",
              "      <td>15954.0</td>\n",
              "      <td>238.0</td>\n",
              "      <td>6556.0</td>\n",
              "      <td>128.0</td>\n",
              "      <td>2.0</td>\n",
              "      <td>janetravers have no idea why you felt the nee...</td>\n",
              "      <td>0.0</td>\n",
              "      <td>115</td>\n",
              "      <td>0.0</td>\n",
              "    </tr>\n",
              "    <tr>\n",
              "      <th>2</th>\n",
              "      <td>553111157738057728</td>\n",
              "      <td>So now let talk seriously about CharlieHebdo ...</td>\n",
              "      <td>False</td>\n",
              "      <td>15954.0</td>\n",
              "      <td>238.0</td>\n",
              "      <td>6556.0</td>\n",
              "      <td>128.0</td>\n",
              "      <td>2.0</td>\n",
              "      <td>islandlayer xce xbc xcf xce xbf xcf xce xbf x...</td>\n",
              "      <td>0.0</td>\n",
              "      <td>481</td>\n",
              "      <td>0.0</td>\n",
              "    </tr>\n",
              "    <tr>\n",
              "      <th>3</th>\n",
              "      <td>553111157738057728</td>\n",
              "      <td>So now let talk seriously about CharlieHebdo ...</td>\n",
              "      <td>False</td>\n",
              "      <td>15954.0</td>\n",
              "      <td>238.0</td>\n",
              "      <td>6556.0</td>\n",
              "      <td>128.0</td>\n",
              "      <td>2.0</td>\n",
              "      <td>islandlayer xcf c xcf xce xb xce xb xce xad x...</td>\n",
              "      <td>0.0</td>\n",
              "      <td>457</td>\n",
              "      <td>0.0</td>\n",
              "    </tr>\n",
              "    <tr>\n",
              "      <th>4</th>\n",
              "      <td>553111157738057728</td>\n",
              "      <td>So now let talk seriously about CharlieHebdo ...</td>\n",
              "      <td>False</td>\n",
              "      <td>15954.0</td>\n",
              "      <td>238.0</td>\n",
              "      <td>6556.0</td>\n",
              "      <td>128.0</td>\n",
              "      <td>2.0</td>\n",
              "      <td>SikanasGiorgos xce xcf xcf xcf xce xb xce xbd...</td>\n",
              "      <td>0.0</td>\n",
              "      <td>646</td>\n",
              "      <td>0.0</td>\n",
              "    </tr>\n",
              "    <tr>\n",
              "      <th>...</th>\n",
              "      <td>...</td>\n",
              "      <td>...</td>\n",
              "      <td>...</td>\n",
              "      <td>...</td>\n",
              "      <td>...</td>\n",
              "      <td>...</td>\n",
              "      <td>...</td>\n",
              "      <td>...</td>\n",
              "      <td>...</td>\n",
              "      <td>...</td>\n",
              "      <td>...</td>\n",
              "      <td>...</td>\n",
              "    </tr>\n",
              "    <tr>\n",
              "      <th>18040</th>\n",
              "      <td>553591259672379392</td>\n",
              "      <td>Update PA gunman holding hostages in Paris gr...</td>\n",
              "      <td>True</td>\n",
              "      <td>1380592.0</td>\n",
              "      <td>14597.0</td>\n",
              "      <td>27260.0</td>\n",
              "      <td>0.0</td>\n",
              "      <td>6.0</td>\n",
              "      <td>SkyNewsBreak good shoot them all Paris will m...</td>\n",
              "      <td>1.0</td>\n",
              "      <td>59</td>\n",
              "      <td>1.0</td>\n",
              "    </tr>\n",
              "    <tr>\n",
              "      <th>18041</th>\n",
              "      <td>553591259672379392</td>\n",
              "      <td>Update PA gunman holding hostages in Paris gr...</td>\n",
              "      <td>True</td>\n",
              "      <td>1380592.0</td>\n",
              "      <td>14597.0</td>\n",
              "      <td>27260.0</td>\n",
              "      <td>0.0</td>\n",
              "      <td>6.0</td>\n",
              "      <td>SkyNewsBreak SteeryBlade GET IN Fucking lunat...</td>\n",
              "      <td>1.0</td>\n",
              "      <td>55</td>\n",
              "      <td>1.0</td>\n",
              "    </tr>\n",
              "    <tr>\n",
              "      <th>18042</th>\n",
              "      <td>553591259672379392</td>\n",
              "      <td>Update PA gunman holding hostages in Paris gr...</td>\n",
              "      <td>True</td>\n",
              "      <td>1380592.0</td>\n",
              "      <td>14597.0</td>\n",
              "      <td>27260.0</td>\n",
              "      <td>0.0</td>\n",
              "      <td>6.0</td>\n",
              "      <td>xe x SkyNewsBreak Update PA gunman holding ho...</td>\n",
              "      <td>1.0</td>\n",
              "      <td>101</td>\n",
              "      <td>1.0</td>\n",
              "    </tr>\n",
              "    <tr>\n",
              "      <th>18043</th>\n",
              "      <td>553591259672379392</td>\n",
              "      <td>Update PA gunman holding hostages in Paris gr...</td>\n",
              "      <td>True</td>\n",
              "      <td>1380592.0</td>\n",
              "      <td>14597.0</td>\n",
              "      <td>27260.0</td>\n",
              "      <td>0.0</td>\n",
              "      <td>6.0</td>\n",
              "      <td>SkyNewsBreak hope it was VERY painful Rot in ...</td>\n",
              "      <td>1.0</td>\n",
              "      <td>51</td>\n",
              "      <td>1.0</td>\n",
              "    </tr>\n",
              "    <tr>\n",
              "      <th>18044</th>\n",
              "      <td>553591259672379392</td>\n",
              "      <td>Update PA gunman holding hostages in Paris gr...</td>\n",
              "      <td>True</td>\n",
              "      <td>1380592.0</td>\n",
              "      <td>14597.0</td>\n",
              "      <td>27260.0</td>\n",
              "      <td>0.0</td>\n",
              "      <td>6.0</td>\n",
              "      <td>maisy SkyNewsBreak them all there was two</td>\n",
              "      <td>1.0</td>\n",
              "      <td>43</td>\n",
              "      <td>1.0</td>\n",
              "    </tr>\n",
              "  </tbody>\n",
              "</table>\n",
              "<p>18045 rows × 12 columns</p>\n",
              "</div>\n",
              "      <button class=\"colab-df-convert\" onclick=\"convertToInteractive('df-c3d7b425-f438-4fff-a559-ad4dc936e1b1')\"\n",
              "              title=\"Convert this dataframe to an interactive table.\"\n",
              "              style=\"display:none;\">\n",
              "        \n",
              "  <svg xmlns=\"http://www.w3.org/2000/svg\" height=\"24px\"viewBox=\"0 0 24 24\"\n",
              "       width=\"24px\">\n",
              "    <path d=\"M0 0h24v24H0V0z\" fill=\"none\"/>\n",
              "    <path d=\"M18.56 5.44l.94 2.06.94-2.06 2.06-.94-2.06-.94-.94-2.06-.94 2.06-2.06.94zm-11 1L8.5 8.5l.94-2.06 2.06-.94-2.06-.94L8.5 2.5l-.94 2.06-2.06.94zm10 10l.94 2.06.94-2.06 2.06-.94-2.06-.94-.94-2.06-.94 2.06-2.06.94z\"/><path d=\"M17.41 7.96l-1.37-1.37c-.4-.4-.92-.59-1.43-.59-.52 0-1.04.2-1.43.59L10.3 9.45l-7.72 7.72c-.78.78-.78 2.05 0 2.83L4 21.41c.39.39.9.59 1.41.59.51 0 1.02-.2 1.41-.59l7.78-7.78 2.81-2.81c.8-.78.8-2.07 0-2.86zM5.41 20L4 18.59l7.72-7.72 1.47 1.35L5.41 20z\"/>\n",
              "  </svg>\n",
              "      </button>\n",
              "      \n",
              "  <style>\n",
              "    .colab-df-container {\n",
              "      display:flex;\n",
              "      flex-wrap:wrap;\n",
              "      gap: 12px;\n",
              "    }\n",
              "\n",
              "    .colab-df-convert {\n",
              "      background-color: #E8F0FE;\n",
              "      border: none;\n",
              "      border-radius: 50%;\n",
              "      cursor: pointer;\n",
              "      display: none;\n",
              "      fill: #1967D2;\n",
              "      height: 32px;\n",
              "      padding: 0 0 0 0;\n",
              "      width: 32px;\n",
              "    }\n",
              "\n",
              "    .colab-df-convert:hover {\n",
              "      background-color: #E2EBFA;\n",
              "      box-shadow: 0px 1px 2px rgba(60, 64, 67, 0.3), 0px 1px 3px 1px rgba(60, 64, 67, 0.15);\n",
              "      fill: #174EA6;\n",
              "    }\n",
              "\n",
              "    [theme=dark] .colab-df-convert {\n",
              "      background-color: #3B4455;\n",
              "      fill: #D2E3FC;\n",
              "    }\n",
              "\n",
              "    [theme=dark] .colab-df-convert:hover {\n",
              "      background-color: #434B5C;\n",
              "      box-shadow: 0px 1px 3px 1px rgba(0, 0, 0, 0.15);\n",
              "      filter: drop-shadow(0px 1px 2px rgba(0, 0, 0, 0.3));\n",
              "      fill: #FFFFFF;\n",
              "    }\n",
              "  </style>\n",
              "\n",
              "      <script>\n",
              "        const buttonEl =\n",
              "          document.querySelector('#df-c3d7b425-f438-4fff-a559-ad4dc936e1b1 button.colab-df-convert');\n",
              "        buttonEl.style.display =\n",
              "          google.colab.kernel.accessAllowed ? 'block' : 'none';\n",
              "\n",
              "        async function convertToInteractive(key) {\n",
              "          const element = document.querySelector('#df-c3d7b425-f438-4fff-a559-ad4dc936e1b1');\n",
              "          const dataTable =\n",
              "            await google.colab.kernel.invokeFunction('convertToInteractive',\n",
              "                                                     [key], {});\n",
              "          if (!dataTable) return;\n",
              "\n",
              "          const docLinkHtml = 'Like what you see? Visit the ' +\n",
              "            '<a target=\"_blank\" href=https://colab.research.google.com/notebooks/data_table.ipynb>data table notebook</a>'\n",
              "            + ' to learn more about interactive tables.';\n",
              "          element.innerHTML = '';\n",
              "          dataTable['output_type'] = 'display_data';\n",
              "          await google.colab.output.renderOutput(dataTable, element);\n",
              "          const docLink = document.createElement('div');\n",
              "          docLink.innerHTML = docLinkHtml;\n",
              "          element.appendChild(docLink);\n",
              "        }\n",
              "      </script>\n",
              "    </div>\n",
              "  </div>\n",
              "  "
            ]
          },
          "metadata": {},
          "execution_count": 152
        }
      ]
    },
    {
      "cell_type": "code",
      "source": [
        "Model2Train50.dtypes"
      ],
      "metadata": {
        "colab": {
          "base_uri": "https://localhost:8080/"
        },
        "id": "CRLLUwDmKNNz",
        "outputId": "4e482485-387e-4ec5-c348-dc8cc1c290bb"
      },
      "execution_count": null,
      "outputs": [
        {
          "output_type": "execute_result",
          "data": {
            "text/plain": [
              "tweet_source_id          int64\n",
              "tweet_source_text       object\n",
              "uverified                 bool\n",
              "ufollowers             float64\n",
              "ulisted                float64\n",
              "ustatuses              float64\n",
              "ufavorites             float64\n",
              "ageofacc               float64\n",
              "tweet_reaction_text     object\n",
              "annotation             float64\n",
              "len                      int64\n",
              "# output_predicted     float64\n",
              "dtype: object"
            ]
          },
          "metadata": {},
          "execution_count": 151
        }
      ]
    },
    {
      "cell_type": "code",
      "source": [
        "annotation = Model2Train50.groupby(['tweet_source_id'])['annotation']\n",
        "annotation.head()\n"
      ],
      "metadata": {
        "colab": {
          "base_uri": "https://localhost:8080/"
        },
        "id": "-4Ev-9rBb3w0",
        "outputId": "b6726616-972d-439b-e65d-641f225b43dd"
      },
      "execution_count": null,
      "outputs": [
        {
          "output_type": "execute_result",
          "data": {
            "text/plain": [
              "0        0.0\n",
              "1        0.0\n",
              "2        0.0\n",
              "3        0.0\n",
              "4        0.0\n",
              "        ... \n",
              "18025    1.0\n",
              "18026    1.0\n",
              "18027    1.0\n",
              "18028    1.0\n",
              "18029    1.0\n",
              "Name: annotation, Length: 4990, dtype: float64"
            ]
          },
          "metadata": {},
          "execution_count": 161
        }
      ]
    },
    {
      "cell_type": "code",
      "source": [
        "op = Model2Train50.groupby(['tweet_source_id'])['# output_predicted'].mean()\n"
      ],
      "metadata": {
        "id": "znb4FcuRNUrT"
      },
      "execution_count": null,
      "outputs": []
    },
    {
      "cell_type": "code",
      "source": [
        "print(op)"
      ],
      "metadata": {
        "colab": {
          "base_uri": "https://localhost:8080/"
        },
        "id": "kPXJ5DSE5kOp",
        "outputId": "b52deb28-9263-48e2-cba4-ac09aa06ed9d"
      },
      "execution_count": null,
      "outputs": [
        {
          "output_type": "stream",
          "name": "stdout",
          "text": [
            "0        0.0\n",
            "1        0.0\n",
            "2        0.0\n",
            "3        0.0\n",
            "4        0.0\n",
            "        ... \n",
            "18025    1.0\n",
            "18026    1.0\n",
            "18027    1.0\n",
            "18028    1.0\n",
            "18029    1.0\n",
            "Name: # output_predicted, Length: 4990, dtype: float64\n"
          ]
        }
      ]
    },
    {
      "cell_type": "code",
      "source": [
        "test = pd.concat([op], axis=1)\n",
        "#print(test)\n",
        "test.to_csv('testavg20.csv')\n"
      ],
      "metadata": {
        "id": "ED5LGBeDdEyv"
      },
      "execution_count": null,
      "outputs": []
    }
  ],
  "metadata": {
    "accelerator": "GPU",
    "colab": {
      "provenance": [],
      "include_colab_link": true
    },
    "kernelspec": {
      "display_name": "Python 3",
      "name": "python3"
    },
    "language_info": {
      "name": "python"
    }
  },
  "nbformat": 4,
  "nbformat_minor": 0
}